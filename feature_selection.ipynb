{
 "cells": [
  {
   "cell_type": "markdown",
   "metadata": {},
   "source": [
    "# Imports"
   ]
  },
  {
   "cell_type": "code",
   "execution_count": 1,
   "metadata": {},
   "outputs": [],
   "source": [
    "import numpy as np\n",
    "import pandas as pd\n",
    "import math\n",
    "from functools import reduce\n",
    "\n",
    "import matplotlib.pyplot as plt\n",
    "%matplotlib inline\n",
    "\n",
    "import seaborn as sns\n",
    "color = sns.color_palette()\n",
    "sns.set_style('darkgrid')\n",
    "\n",
    "from dython.nominal import associations\n",
    "\n",
    "df_train = pd.read_feather(\"data/df_train.feather\").drop(\"index\", axis=1)\n",
    "df_test = pd.read_feather(\"data/df_test.feather\").drop(\"index\", axis=1)"
   ]
  },
  {
   "cell_type": "code",
   "execution_count": 2,
   "metadata": {},
   "outputs": [],
   "source": [
    "from sklearn.linear_model import LinearRegression, Lasso\n",
    "from sklearn.model_selection import train_test_split\n",
    "from sklearn.pipeline import Pipeline\n",
    "from sklearn.compose import ColumnTransformer\n",
    "from sklearn.preprocessing import FunctionTransformer, OneHotEncoder, OrdinalEncoder, StandardScaler\n",
    "from sklearn.impute import SimpleImputer, KNNImputer\n",
    "from sklearn.metrics import mean_absolute_error\n",
    "from sklearn.feature_selection import RFE\n",
    "\n",
    "from sklearn.experimental import enable_iterative_imputer\n",
    "from sklearn.impute import IterativeImputer\n",
    "\n",
    "from sklearn import set_config\n",
    "set_config(display=\"diagram\")"
   ]
  },
  {
   "cell_type": "code",
   "execution_count": 3,
   "metadata": {},
   "outputs": [],
   "source": [
    "import json\n",
    "with open(\"baseline.json\", \"r\") as f:\n",
    "    baseline = json.load(f)\n",
    "    base_train_mae = baseline[\"mae_train\"]\n",
    "    base_test_mae = baseline[\"mae_test\"]\n",
    "\n",
    "def mae(model, X_train, y_train, X_test, y_test):\n",
    "    y_pred_train = model.predict(X_train)\n",
    "    y_pred_test = model.predict(X_test)\n",
    "\n",
    "    train_mae = mean_absolute_error(y_train, y_pred_train)\n",
    "    test_mae = mean_absolute_error(y_test, y_pred_test)\n",
    "\n",
    "    print('MAE on train data: ', train_mae)\n",
    "    print('MAE on test data: ',  test_mae)\n",
    "    return train_mae, test_mae\n",
    "\n",
    "def compare_to_base(train_mae, test_mae):\n",
    "    print(\"Difference with base train: \", train_mae - base_train_mae)\n",
    "    print(\"Difference with base test: \", test_mae - base_test_mae)"
   ]
  },
  {
   "cell_type": "markdown",
   "metadata": {},
   "source": [
    "# Cat / Num / Ord features"
   ]
  },
  {
   "cell_type": "code",
   "execution_count": 4,
   "metadata": {},
   "outputs": [],
   "source": [
    "categorical_features = ['MS SubClass', 'MS Zoning',\n",
    "        'Street', 'Lot Shape', 'Land Contour', 'Utilities',\n",
    "        'Lot Config', 'Land Slope', 'Neighborhood', 'Condition 1',\n",
    "        'Condition 2', 'Bldg Type', 'House Style', 'Overall Qual',\n",
    "        'Overall Cond', 'Roof Style',\n",
    "        'Roof Matl', 'Exterior 1st', 'Exterior 2nd', \n",
    "        'Mas Vnr Type', 'Exter Qual',\n",
    "        'Exter Cond', 'Foundation', 'Bsmt Qual', 'Bsmt Cond', 'Bsmt Exposure',\n",
    "        'BsmtFin Type 1',  'BsmtFin Type 2', \n",
    "        'Heating', 'Heating QC', 'Central Air',\n",
    "        'Electrical',  'Bsmt Full Bath', 'Bsmt Half Bath', 'Full Bath',\n",
    "        'Half Bath', 'Bedroom AbvGr', 'Kitchen AbvGr', 'Kitchen Qual',\n",
    "        'TotRms AbvGrd', 'Functional', 'Fireplaces' , 'Garage Type',\n",
    "        'Garage Finish', 'Garage Cars', \n",
    "        'Garage Qual', 'Paved Drive', 'Mo Sold', 'Sale Type',\n",
    "        'Sale Condition', 'Fireplace Qu', 'Pool QC', 'Garage Cond', 'Yr Sold'\n",
    "        ] # 'Alley', 'Fence', 'Misc Feature'\n",
    "\n",
    "numerical_features = ['Lot Frontage', 'Lot Area', 'Mas Vnr Area','BsmtFin SF 1','BsmtFin SF 2','Bsmt Unf SF',\n",
    "        'Total Bsmt SF','1st Flr SF', '2nd Flr SF', 'Low Qual Fin SF',\n",
    "        'Gr Liv Area', 'Garage Area','Wood Deck SF',\n",
    "        'Open Porch SF', '3Ssn Porch', 'Screen Porch',\n",
    "        'Pool Area', 'Misc Val', 'Garage Yr Blt', 'Year Built', 'Year Remod/Add']\n",
    "\n",
    "ordinal_features = ['Lot Shape', 'Utilities', 'Land Slope',  'Overall Qual', 'Overall Cond',\n",
    "                'Exter Qual', 'Exter Cond', 'Bsmt Qual', 'Bsmt Cond', 'Bsmt Exposure', 'BsmtFin Type 1', \n",
    "                'BsmtFin Type 2', 'Heating QC', 'Kitchen Qual', 'Functional', 'Fireplace Qu', 'Garage Finish',\n",
    "                'Garage Qual', 'Garage Cond', 'Pool QC', 'Yr Sold', 'Garage Yr Blt', 'Year Built', 'Year Remod/Add', \"Garage Cars\"]"
   ]
  },
  {
   "cell_type": "code",
   "execution_count": 5,
   "metadata": {},
   "outputs": [
    {
     "name": "stdout",
     "output_type": "stream",
     "text": [
      "54 21 25\n",
      "32 18 25\n"
     ]
    }
   ],
   "source": [
    "print(len(categorical_features), len(numerical_features), len(ordinal_features))\n",
    "ordinal_features = [feat for feat in ordinal_features if feat in categorical_features or feat in numerical_features]\n",
    "categorical_features = [feat for feat in categorical_features if feat not in ordinal_features]\n",
    "numerical_features = [feat for feat in numerical_features if feat not in ordinal_features]\n",
    "print(len(categorical_features), len(numerical_features), len(ordinal_features))"
   ]
  },
  {
   "cell_type": "markdown",
   "metadata": {},
   "source": [
    "# Add \"House Area\" feature"
   ]
  },
  {
   "cell_type": "code",
   "execution_count": 6,
   "metadata": {},
   "outputs": [],
   "source": [
    "to_add = [\"Total Bsmt SF\", \"1st Flr SF\", \"2nd Flr SF\", \"Garage Area\", \"Wood Deck SF\", \"Open Porch SF\"]\n",
    "df_train[\"House Area\"] = 0\n",
    "df_test[\"House Area\"] = 0\n",
    "for col in to_add:\n",
    "    df_train[\"House Area\"] += df_train[col].fillna(0)\n",
    "    df_test[\"House Area\"] += df_test[col].fillna(0)\n",
    "numerical_features.append(\"House Area\")"
   ]
  },
  {
   "cell_type": "markdown",
   "metadata": {},
   "source": [
    "# Outliers removal"
   ]
  },
  {
   "cell_type": "code",
   "execution_count": 7,
   "metadata": {},
   "outputs": [],
   "source": [
    "def find_boundaries(df, variable, distance):\n",
    "    IQR = df[variable].quantile(0.75) - df[variable].quantile(0.25)\n",
    "    lower_boundary = df[variable].quantile(0.25) - (IQR * distance)\n",
    "    upper_boundary = df[variable].quantile(0.75) + (IQR * distance)\n",
    "    return upper_boundary, lower_boundary"
   ]
  },
  {
   "cell_type": "code",
   "execution_count": 8,
   "metadata": {},
   "outputs": [],
   "source": [
    "# df_train_clean = df_train.copy()\n",
    "total_mask = []\n",
    "\n",
    "for col, dist in zip([\"Garage Yr Blt\", \"BsmtFin SF 1\", \"Open Porch SF\", \"Total Bsmt SF\", \"1st Flr SF\"], [3, 3, 6, 4, 4]):\n",
    "    upper, lower = find_boundaries(df_train, col, 4)\n",
    "    mask = (df_train[col] < upper) & (df_train[col] > lower)\n",
    "    total_mask.append(mask)\n",
    "\n",
    "mask = reduce(np.logical_and, total_mask)\n",
    "df_train = df_train[mask]"
   ]
  },
  {
   "cell_type": "code",
   "execution_count": 9,
   "metadata": {},
   "outputs": [
    {
     "data": {
      "text/plain": [
       "<AxesSubplot:xlabel='House Area', ylabel='SalePrice'>"
      ]
     },
     "execution_count": 9,
     "metadata": {},
     "output_type": "execute_result"
    },
    {
     "data": {
      "image/png": "[encoded data removed]",
      "text/plain": [
       "<Figure size 432x288 with 1 Axes>"
      ]
     },
     "metadata": {},
     "output_type": "display_data"
    }
   ],
   "source": [
    "col = \"House Area\"\n",
    "upper, lower = find_boundaries(df_train, col, 3)\n",
    "mask = (df_train[col] < upper) & (df_train[col] > lower)\n",
    "\n",
    "sns.scatterplot(data=df_train, x=col, y=df_train[\"SalePrice\"], hue=mask)"
   ]
  },
  {
   "cell_type": "markdown",
   "metadata": {},
   "source": [
    "# Check correlation"
   ]
  },
  {
   "cell_type": "markdown",
   "metadata": {},
   "source": [
    "## With the target"
   ]
  },
  {
   "cell_type": "code",
   "execution_count": 10,
   "metadata": {},
   "outputs": [],
   "source": [
    "corr = associations(df_train, compute_only=True)[\"corr\"]"
   ]
  },
  {
   "cell_type": "code",
   "execution_count": 11,
   "metadata": {},
   "outputs": [
    {
     "data": {
      "image/png": "[encoded data removed]",
      "text/plain": [
       "<Figure size 720x1080 with 2 Axes>"
      ]
     },
     "metadata": {},
     "output_type": "display_data"
    }
   ],
   "source": [
    "plt.figure(figsize=(10,15))\n",
    "sns.heatmap(np.abs(corr.sort_values(\"SalePrice\", ascending=False)[['SalePrice']]), annot=True)\n",
    "plt.show()"
   ]
  },
  {
   "cell_type": "code",
   "execution_count": 12,
   "metadata": {},
   "outputs": [],
   "source": [
    "# to_drop = corr[(np.abs(corr['SalePrice']) < 0.2)].index.to_list()\n",
    "# df_train = df_train.drop(to_drop, axis=1)\n",
    "\n",
    "# print(len(categorical_features), len(numerical_features), len(ordinal_features))\n",
    "# ordinal_features = [feat for feat in ordinal_features if feat not in to_drop]\n",
    "# categorical_features = [feat for feat in categorical_features if feat not in to_drop]\n",
    "# numerical_features = [feat for feat in numerical_features if feat not in to_drop]\n",
    "# print(len(categorical_features), len(numerical_features), len(ordinal_features))"
   ]
  },
  {
   "cell_type": "markdown",
   "metadata": {},
   "source": [
    "## Multicolinearity\n",
    "Note: We might also want to try a Variance Inflation Factor"
   ]
  },
  {
   "cell_type": "code",
   "execution_count": 13,
   "metadata": {},
   "outputs": [],
   "source": [
    "corr = associations(df_train, compute_only=True)[\"corr\"]"
   ]
  },
  {
   "cell_type": "code",
   "execution_count": 14,
   "metadata": {},
   "outputs": [
    {
     "data": {
      "text/plain": [
       "<AxesSubplot:>"
      ]
     },
     "execution_count": 14,
     "metadata": {},
     "output_type": "execute_result"
    },
    {
     "data": {
      "image/png": "[encoded data removed]",
      "text/plain": [
       "<Figure size 1080x1080 with 2 Axes>"
      ]
     },
     "metadata": {},
     "output_type": "display_data"
    }
   ],
   "source": [
    "plt.figure(figsize=(15, 15))\n",
    "\n",
    "filtered_corr = corr[(corr >= .8) & (corr != 1)].dropna(how=\"all\", axis=0).dropna(how=\"all\", axis=1)\n",
    "mask = np.triu(np.ones_like(filtered_corr, dtype=bool))\n",
    "\n",
    "sns.heatmap(filtered_corr, mask=mask, annot=True)"
   ]
  },
  {
   "cell_type": "code",
   "execution_count": 15,
   "metadata": {},
   "outputs": [],
   "source": [
    "# df_train.drop([\"Year Built\", \"House Style\", \"1st Flr SF\", \"Gr Liv Area\", \"Fireplaces\", \"Garage Cars\"], axis=1)"
   ]
  },
  {
   "cell_type": "code",
   "execution_count": 16,
   "metadata": {},
   "outputs": [
    {
     "data": {
      "text/plain": [
       "Index(['MS SubClass', 'MS Zoning', 'Lot Frontage', 'Lot Area', 'Street',\n",
       "       'Lot Shape', 'Land Contour', 'Utilities', 'Lot Config', 'Land Slope',\n",
       "       'Neighborhood', 'Condition 1', 'Condition 2', 'Bldg Type',\n",
       "       'House Style', 'Overall Qual', 'Overall Cond', 'Year Built',\n",
       "       'Year Remod/Add', 'Roof Style', 'Roof Matl', 'Exterior 1st',\n",
       "       'Exterior 2nd', 'Mas Vnr Type', 'Mas Vnr Area', 'Exter Qual',\n",
       "       'Exter Cond', 'Foundation', 'Bsmt Qual', 'Bsmt Cond', 'Bsmt Exposure',\n",
       "       'BsmtFin Type 1', 'BsmtFin SF 1', 'BsmtFin Type 2', 'BsmtFin SF 2',\n",
       "       'Bsmt Unf SF', 'Total Bsmt SF', 'Heating', 'Heating QC', 'Central Air',\n",
       "       'Electrical', '1st Flr SF', '2nd Flr SF', 'Low Qual Fin SF',\n",
       "       'Gr Liv Area', 'Bsmt Full Bath', 'Bsmt Half Bath', 'Full Bath',\n",
       "       'Half Bath', 'Bedroom AbvGr', 'Kitchen AbvGr', 'Kitchen Qual',\n",
       "       'TotRms AbvGrd', 'Functional', 'Fireplaces', 'Fireplace Qu',\n",
       "       'Garage Type', 'Garage Yr Blt', 'Garage Finish', 'Garage Cars',\n",
       "       'Garage Area', 'Garage Qual', 'Garage Cond', 'Paved Drive',\n",
       "       'Wood Deck SF', 'Open Porch SF', 'Enclosed Porch', '3Ssn Porch',\n",
       "       'Screen Porch', 'Pool Area', 'Pool QC', 'Misc Val', 'Mo Sold',\n",
       "       'Yr Sold', 'Sale Type', 'Sale Condition', 'SalePrice', 'House Area'],\n",
       "      dtype='object')"
      ]
     },
     "execution_count": 16,
     "metadata": {},
     "output_type": "execute_result"
    }
   ],
   "source": [
    "df_train.columns"
   ]
  },
  {
   "cell_type": "code",
   "execution_count": 17,
   "metadata": {},
   "outputs": [],
   "source": [
    "# # numerical_transformer = SimpleImputer()\n",
    "# categorical_transformer = Pipeline([\n",
    "#     # (\"imputer\", SimpleImputer(strategy=\"most_frequent\")),\n",
    "#     (\"onehot\", OneHotEncoder(handle_unknown=\"ignore\"))\n",
    "# ])\n",
    "\n",
    "# # (\"other\", OrdinalEncoder(categories=[\n",
    "# #     [\"Reg\", \"IR1\", \"IR2\", \"IR3\"],\n",
    "# #     [\"ELO\", \"NoSeWa\", \"NoSewr\", \"AllPub\"],\n",
    "# #     [\"Gtl\", \"Mod\", \"Sev\"],\n",
    "# #     [None, \"No\", \"Mn\", \"Av\", \"Gd\"],\n",
    "# #     [None, \"Unf\", \"LwQ\", \"Rec\", \"BLQ\", \"ALQ\", \"GLQ\"],\n",
    "# #     [None, \"Unf\", \"LwQ\", \"Rec\", \"BLQ\", \"ALQ\", \"GLQ\"],\n",
    "# #     [\"Sal\", \"Sev\", \"Maj2\", \"Maj1\", \"Mod\", \"Min2\", \"Min1\", \"Typ\"],\n",
    "# #     [None, \"Unf\", \"RFn\", \"Fin\"]\n",
    "# # ]), [\"Lot Shape\", \"Utilities\", \"Land Slope\", \"Bsmt Exposure\", 'BsmtFin Type 1', 'BsmtFin Type 2', \"Functional\", \"Garage Finish\"]),\n",
    "\n",
    "# ordinal_encoding= ColumnTransformer(\n",
    "#     transformers=[\n",
    "#         (\"other\", OrdinalEncoder(categories=[\n",
    "#             [\"Reg\", \"IR1\", \"IR2\", \"IR3\"],\n",
    "#             [None, \"No\", \"Mn\", \"Av\", \"Gd\"],\n",
    "#             [None, \"Unf\", \"LwQ\", \"Rec\", \"BLQ\", \"ALQ\", \"GLQ\"],\n",
    "#             [None, \"Unf\", \"RFn\", \"Fin\"]\n",
    "#         ]), [\"Lot Shape\", \"Bsmt Exposure\", 'BsmtFin Type 1', \"Garage Finish\"]),\n",
    "\n",
    "#         (\"qual_cond_nan\", OrdinalEncoder(categories=\n",
    "#         [[\"Po\", None, \"Fa\", \"TA\", \"Gd\", \"Ex\"] for _ in range(4)]),\n",
    "#         ['Bsmt Qual', 'Bsmt Cond', 'Fireplace Qu', 'Garage Qual']\n",
    "#         ),\n",
    "\n",
    "#         (\"qual_cond\", OrdinalEncoder(categories=\n",
    "#         [[\"Po\", \"Fa\", \"TA\", \"Gd\", \"Ex\"] for _ in range(3)]),\n",
    "#         ['Exter Qual', 'Heating QC', 'Kitchen Qual']),\n",
    "\n",
    "#     ],\n",
    "#     remainder=\"passthrough\" # Overall Qual/Cond, 'Yr Sold', 'Garage Yr Blt', 'Year Built', 'Year Remod/Add'\n",
    "# )\n",
    "\n",
    "# ordinal_transformer = Pipeline([\n",
    "#     (\"ord_encoding\", ordinal_encoding),\n",
    "#     # (\"imputing\", SimpleImputer())\n",
    "# ])\n",
    "\n",
    "# preprocessor = ColumnTransformer(\n",
    "#     transformers=[\n",
    "#         # (\"num\", [], numerical_features),\n",
    "#         (\"cat\", categorical_transformer, categorical_features),\n",
    "#         (\"ord\", ordinal_transformer, ordinal_features)\n",
    "#     ],\n",
    "#     remainder=\"passthrough\"\n",
    "# )\n",
    "\n",
    "numerical_transformer = IterativeImputer()\n",
    "categorical_transformer = Pipeline([\n",
    "    # (\"imputer\", SimpleImputer(strategy=\"most_frequent\")),\n",
    "    # (\"onehot\", OneHotEncoder(handle_unknown=\"igncoded_value\", unknown_value=np.nan)),\n",
    "    (\"ord\", OrdinalEncoder(handle_unknown=\"use_encoded_value\", unknown_value=np.NaN)),\n",
    "    (\"imputer\", IterativeImputer()),\n",
    "    (\"threshold\", FunctionTransformer(np.round)),\n",
    "    (\"onehot\", OneHotEncoder(handle_unknown=\"ignore\"))\n",
    "])\n",
    "\n",
    "ordinal_encoding= ColumnTransformer(\n",
    "    transformers=[\n",
    "        (\"other\", OrdinalEncoder(categories=[\n",
    "            [\"Reg\", \"IR1\", \"IR2\", \"IR3\"],\n",
    "            [None, \"No\", \"Mn\", \"Av\", \"Gd\"],\n",
    "            [None, \"Unf\", \"LwQ\", \"Rec\", \"BLQ\", \"ALQ\", \"GLQ\"],\n",
    "            [None, \"Unf\", \"RFn\", \"Fin\"]\n",
    "        ]), [\"Lot Shape\", \"Bsmt Exposure\", 'BsmtFin Type 1', \"Garage Finish\"]),\n",
    "\n",
    "        (\"qual_cond_nan\", OrdinalEncoder(categories=\n",
    "        [[\"Po\", None, \"Fa\", \"TA\", \"Gd\", \"Ex\"] for _ in range(4)]),\n",
    "        ['Bsmt Qual', 'Bsmt Cond', 'Fireplace Qu', 'Garage Qual']\n",
    "        ),\n",
    "\n",
    "        (\"qual_cond\", OrdinalEncoder(categories=\n",
    "        [[\"Po\", \"Fa\", \"TA\", \"Gd\", \"Ex\"] for _ in range(3)]),\n",
    "        ['Exter Qual', 'Heating QC', 'Kitchen Qual']),\n",
    "\n",
    "    ],\n",
    "    remainder=\"passthrough\" # Overall Qual/Cond, 'Yr Sold', 'Garage Yr Blt', 'Year Built', 'Year Remod/Add'\n",
    ")\n",
    "\n",
    "ordinal_transformer = Pipeline([\n",
    "    (\"ord_encoding\", ordinal_encoding),\n",
    "    (\"imputing\", IterativeImputer())\n",
    "])\n",
    "\n",
    "preprocessor = ColumnTransformer(\n",
    "    transformers=[\n",
    "        (\"num\", numerical_transformer, numerical_features),\n",
    "        (\"cat\", categorical_transformer, categorical_features),\n",
    "        (\"ord\", ordinal_transformer, ordinal_features)\n",
    "    ],\n",
    "    remainder=\"drop\"\n",
    ")"
   ]
  },
  {
   "cell_type": "code",
   "execution_count": 92,
   "metadata": {},
   "outputs": [],
   "source": [
    "# from statsmodels.stats.outliers_influence import variance_inflation_factor\n",
    "\n",
    "# pred = preprocessor.fit_transform(df_train)\n",
    "\n",
    "# vif = pd.Series([variance_inflation_factor(df_train.values, i) for i in range(df_train.shape[1])], index=df_train.columns)\n",
    "# vif = pd.Series([variance_inflation_factor(pred.toarray(), i) for i in range(pred.shape[1])])"
   ]
  },
  {
   "cell_type": "markdown",
   "metadata": {},
   "source": [
    "# Using Recursive Feature Elimination (RFE) to narrow down the number of columns"
   ]
  },
  {
   "cell_type": "code",
   "execution_count": null,
   "metadata": {},
   "outputs": [],
   "source": [
    "X_train = df_train.drop([\"SalePrice\"], axis=1)\n",
    "y_train = df_train[\"SalePrice\"]"
   ]
  },
  {
   "cell_type": "code",
   "execution_count": null,
   "metadata": {},
   "outputs": [],
   "source": [
    "numerical_transformer = IterativeImputer()\n",
    "ordinal_encoding= ColumnTransformer(\n",
    "    transformers=[\n",
    "        (\"other\", OrdinalEncoder(categories=[\n",
    "            [\"Reg\", \"IR1\", \"IR2\", \"IR3\"],\n",
    "            [None, \"No\", \"Mn\", \"Av\", \"Gd\"],\n",
    "            [None, \"Unf\", \"LwQ\", \"Rec\", \"BLQ\", \"ALQ\", \"GLQ\"],\n",
    "            [None, \"Unf\", \"RFn\", \"Fin\"]\n",
    "        ]), [\"Lot Shape\", \"Bsmt Exposure\", 'BsmtFin Type 1', \"Garage Finish\"]),\n",
    "\n",
    "        (\"qual_cond_nan\", OrdinalEncoder(categories=\n",
    "        [[\"Po\", None, \"Fa\", \"TA\", \"Gd\", \"Ex\"] for _ in range(4)]),\n",
    "        ['Bsmt Qual', 'Bsmt Cond', 'Fireplace Qu', 'Garage Qual']\n",
    "        ),\n",
    "\n",
    "        (\"qual_cond\", OrdinalEncoder(categories=\n",
    "        [[\"Po\", \"Fa\", \"TA\", \"Gd\", \"Ex\"] for _ in range(3)]),\n",
    "        ['Exter Qual', 'Heating QC', 'Kitchen Qual']),\n",
    "\n",
    "    ],\n",
    "    remainder=\"passthrough\" # Overall Qual/Cond, 'Yr Sold', 'Garage Yr Blt', 'Year Built', 'Year Remod/Add'\n",
    ")\n",
    "\n",
    "ordinal_transformer = Pipeline([\n",
    "    (\"ord_encoding\", ordinal_encoding),\n",
    "    (\"imputing\", IterativeImputer())\n",
    "])\n",
    "\n",
    "preprocessor = ColumnTransformer(\n",
    "    transformers=[\n",
    "        (\"num\", numerical_transformer, numerical_features),\n",
    "        (\"ord\", ordinal_transformer, ordinal_features)\n",
    "    ],\n",
    "    remainder=\"drop\"\n",
    ")"
   ]
  },
  {
   "cell_type": "code",
   "execution_count": null,
   "metadata": {},
   "outputs": [
    {
     "data": {
      "text/html": [
       "<style>#sk-container-id-1 {color: black;background-color: white;}#sk-container-id-1 pre{padding: 0;}#sk-container-id-1 div.sk-toggleable {background-color: white;}#sk-container-id-1 label.sk-toggleable__label {cursor: pointer;display: block;width: 100%;margin-bottom: 0;padding: 0.3em;box-sizing: border-box;text-align: center;}#sk-container-id-1 label.sk-toggleable__label-arrow:before {content: \"▸\";float: left;margin-right: 0.25em;color: #696969;}#sk-container-id-1 label.sk-toggleable__label-arrow:hover:before {color: black;}#sk-container-id-1 div.sk-estimator:hover label.sk-toggleable__label-arrow:before {color: black;}#sk-container-id-1 div.sk-toggleable__content {max-height: 0;max-width: 0;overflow: hidden;text-align: left;background-color: #f0f8ff;}#sk-container-id-1 div.sk-toggleable__content pre {margin: 0.2em;color: black;border-radius: 0.25em;background-color: #f0f8ff;}#sk-container-id-1 input.sk-toggleable__control:checked~div.sk-toggleable__content {max-height: 200px;max-width: 100%;overflow: auto;}#sk-container-id-1 input.sk-toggleable__control:checked~label.sk-toggleable__label-arrow:before {content: \"▾\";}#sk-container-id-1 div.sk-estimator input.sk-toggleable__control:checked~label.sk-toggleable__label {background-color: #d4ebff;}#sk-container-id-1 div.sk-label input.sk-toggleable__control:checked~label.sk-toggleable__label {background-color: #d4ebff;}#sk-container-id-1 input.sk-hidden--visually {border: 0;clip: rect(1px 1px 1px 1px);clip: rect(1px, 1px, 1px, 1px);height: 1px;margin: -1px;overflow: hidden;padding: 0;position: absolute;width: 1px;}#sk-container-id-1 div.sk-estimator {font-family: monospace;background-color: #f0f8ff;border: 1px dotted black;border-radius: 0.25em;box-sizing: border-box;margin-bottom: 0.5em;}#sk-container-id-1 div.sk-estimator:hover {background-color: #d4ebff;}#sk-container-id-1 div.sk-parallel-item::after {content: \"\";width: 100%;border-bottom: 1px solid gray;flex-grow: 1;}#sk-container-id-1 div.sk-label:hover label.sk-toggleable__label {background-color: #d4ebff;}#sk-container-id-1 div.sk-serial::before {content: \"\";position: absolute;border-left: 1px solid gray;box-sizing: border-box;top: 0;bottom: 0;left: 50%;z-index: 0;}#sk-container-id-1 div.sk-serial {display: flex;flex-direction: column;align-items: center;background-color: white;padding-right: 0.2em;padding-left: 0.2em;position: relative;}#sk-container-id-1 div.sk-item {position: relative;z-index: 1;}#sk-container-id-1 div.sk-parallel {display: flex;align-items: stretch;justify-content: center;background-color: white;position: relative;}#sk-container-id-1 div.sk-item::before, #sk-container-id-1 div.sk-parallel-item::before {content: \"\";position: absolute;border-left: 1px solid gray;box-sizing: border-box;top: 0;bottom: 0;left: 50%;z-index: -1;}#sk-container-id-1 div.sk-parallel-item {display: flex;flex-direction: column;z-index: 1;position: relative;background-color: white;}#sk-container-id-1 div.sk-parallel-item:first-child::after {align-self: flex-end;width: 50%;}#sk-container-id-1 div.sk-parallel-item:last-child::after {align-self: flex-start;width: 50%;}#sk-container-id-1 div.sk-parallel-item:only-child::after {width: 0;}#sk-container-id-1 div.sk-dashed-wrapped {border: 1px dashed gray;margin: 0 0.4em 0.5em 0.4em;box-sizing: border-box;padding-bottom: 0.4em;background-color: white;}#sk-container-id-1 div.sk-label label {font-family: monospace;font-weight: bold;display: inline-block;line-height: 1.2em;}#sk-container-id-1 div.sk-label-container {text-align: center;}#sk-container-id-1 div.sk-container {/* jupyter's `normalize.less` sets `[hidden] { display: none; }` but bootstrap.min.css set `[hidden] { display: none !important; }` so we also need the `!important` here to be able to override the default hidden behavior on the sphinx rendered scikit-learn.org. See: https://github.com/scikit-learn/scikit-learn/issues/21755 */display: inline-block !important;position: relative;}#sk-container-id-1 div.sk-text-repr-fallback {display: none;}</style><div id=\"sk-container-id-1\" class=\"sk-top-container\"><div class=\"sk-text-repr-fallback\"><pre>RFE(estimator=RandomForestRegressor(), n_features_to_select=5)</pre><b>In a Jupyter environment, please rerun this cell to show the HTML representation or trust the notebook. <br />On GitHub, the HTML representation is unable to render, please try loading this page with nbviewer.org.</b></div><div class=\"sk-container\" hidden><div class=\"sk-item sk-dashed-wrapped\"><div class=\"sk-label-container\"><div class=\"sk-label sk-toggleable\"><input class=\"sk-toggleable__control sk-hidden--visually\" id=\"sk-estimator-id-1\" type=\"checkbox\" ><label for=\"sk-estimator-id-1\" class=\"sk-toggleable__label sk-toggleable__label-arrow\">RFE</label><div class=\"sk-toggleable__content\"><pre>RFE(estimator=RandomForestRegressor(), n_features_to_select=5)</pre></div></div></div><div class=\"sk-parallel\"><div class=\"sk-parallel-item\"><div class=\"sk-item\"><div class=\"sk-label-container\"><div class=\"sk-label sk-toggleable\"><input class=\"sk-toggleable__control sk-hidden--visually\" id=\"sk-estimator-id-2\" type=\"checkbox\" ><label for=\"sk-estimator-id-2\" class=\"sk-toggleable__label sk-toggleable__label-arrow\">estimator: RandomForestRegressor</label><div class=\"sk-toggleable__content\"><pre>RandomForestRegressor()</pre></div></div></div><div class=\"sk-serial\"><div class=\"sk-item\"><div class=\"sk-estimator sk-toggleable\"><input class=\"sk-toggleable__control sk-hidden--visually\" id=\"sk-estimator-id-3\" type=\"checkbox\" ><label for=\"sk-estimator-id-3\" class=\"sk-toggleable__label sk-toggleable__label-arrow\">RandomForestRegressor</label><div class=\"sk-toggleable__content\"><pre>RandomForestRegressor()</pre></div></div></div></div></div></div></div></div></div></div>"
      ],
      "text/plain": [
       "RFE(estimator=RandomForestRegressor(), n_features_to_select=5)"
      ]
     },
     "execution_count": 21,
     "metadata": {},
     "output_type": "execute_result"
    }
   ],
   "source": [
    "from sklearn.ensemble import RandomForestRegressor\n",
    "\n",
    "rfe = RFE(estimator=RandomForestRegressor(), n_features_to_select=5)\n",
    "rfe.fit(preprocessor.fit_transform(X_train), y_train)"
   ]
  },
  {
   "cell_type": "code",
   "execution_count": null,
   "metadata": {},
   "outputs": [],
   "source": [
    "inference_pipeline = Pipeline([\n",
    "    (\"preprocessor\", preprocessor),\n",
    "    (\"model\", RandomForestRegressor())\n",
    "])\n",
    "\n",
    "rfe = RFE(estimator=inference_pipeline, n_features_to_select=5)#, importance_getter=\"model\")\n",
    "# rfe.fit(X_train[[numerical_features + ordinal_features][0]], y_train)\n",
    "# rfe.fit(preprocessor.fit_transform(X_train), y_train)"
   ]
  },
  {
   "cell_type": "code",
   "execution_count": null,
   "metadata": {},
   "outputs": [
    {
     "data": {
      "text/html": [
       "<div>\n",
       "<style scoped>\n",
       "    .dataframe tbody tr th:only-of-type {\n",
       "        vertical-align: middle;\n",
       "    }\n",
       "\n",
       "    .dataframe tbody tr th {\n",
       "        vertical-align: top;\n",
       "    }\n",
       "\n",
       "    .dataframe thead th {\n",
       "        text-align: right;\n",
       "    }\n",
       "</style>\n",
       "<table border=\"1\" class=\"dataframe\">\n",
       "  <thead>\n",
       "    <tr style=\"text-align: right;\">\n",
       "      <th></th>\n",
       "      <th>Lot Area</th>\n",
       "      <th>Gr Liv Area</th>\n",
       "      <th>House Area</th>\n",
       "      <th>Garage Qual</th>\n",
       "      <th>Year Built</th>\n",
       "    </tr>\n",
       "  </thead>\n",
       "  <tbody>\n",
       "    <tr>\n",
       "      <th>0</th>\n",
       "      <td>10400</td>\n",
       "      <td>1370</td>\n",
       "      <td>2939.0</td>\n",
       "      <td>TA</td>\n",
       "      <td>1976</td>\n",
       "    </tr>\n",
       "    <tr>\n",
       "      <th>1</th>\n",
       "      <td>28698</td>\n",
       "      <td>2126</td>\n",
       "      <td>4163.0</td>\n",
       "      <td>TA</td>\n",
       "      <td>1967</td>\n",
       "    </tr>\n",
       "    <tr>\n",
       "      <th>2</th>\n",
       "      <td>9842</td>\n",
       "      <td>1224</td>\n",
       "      <td>1686.0</td>\n",
       "      <td>TA</td>\n",
       "      <td>1962</td>\n",
       "    </tr>\n",
       "    <tr>\n",
       "      <th>3</th>\n",
       "      <td>7200</td>\n",
       "      <td>1040</td>\n",
       "      <td>1460.0</td>\n",
       "      <td>TA</td>\n",
       "      <td>1949</td>\n",
       "    </tr>\n",
       "    <tr>\n",
       "      <th>5</th>\n",
       "      <td>10029</td>\n",
       "      <td>2060</td>\n",
       "      <td>3960.0</td>\n",
       "      <td>TA</td>\n",
       "      <td>1988</td>\n",
       "    </tr>\n",
       "    <tr>\n",
       "      <th>...</th>\n",
       "      <td>...</td>\n",
       "      <td>...</td>\n",
       "      <td>...</td>\n",
       "      <td>...</td>\n",
       "      <td>...</td>\n",
       "    </tr>\n",
       "    <tr>\n",
       "      <th>2339</th>\n",
       "      <td>41600</td>\n",
       "      <td>1424</td>\n",
       "      <td>3496.0</td>\n",
       "      <td>TA</td>\n",
       "      <td>1969</td>\n",
       "    </tr>\n",
       "    <tr>\n",
       "      <th>2340</th>\n",
       "      <td>7750</td>\n",
       "      <td>1414</td>\n",
       "      <td>2659.0</td>\n",
       "      <td>TA</td>\n",
       "      <td>2002</td>\n",
       "    </tr>\n",
       "    <tr>\n",
       "      <th>2341</th>\n",
       "      <td>8791</td>\n",
       "      <td>1728</td>\n",
       "      <td>3537.0</td>\n",
       "      <td>TA</td>\n",
       "      <td>2003</td>\n",
       "    </tr>\n",
       "    <tr>\n",
       "      <th>2342</th>\n",
       "      <td>7308</td>\n",
       "      <td>1740</td>\n",
       "      <td>2901.0</td>\n",
       "      <td>Fa</td>\n",
       "      <td>1920</td>\n",
       "    </tr>\n",
       "    <tr>\n",
       "      <th>2343</th>\n",
       "      <td>7200</td>\n",
       "      <td>768</td>\n",
       "      <td>2124.0</td>\n",
       "      <td>TA</td>\n",
       "      <td>1972</td>\n",
       "    </tr>\n",
       "  </tbody>\n",
       "</table>\n",
       "<p>2210 rows × 5 columns</p>\n",
       "</div>"
      ],
      "text/plain": [
       "      Lot Area  Gr Liv Area  House Area Garage Qual  Year Built\n",
       "0        10400         1370      2939.0          TA        1976\n",
       "1        28698         2126      4163.0          TA        1967\n",
       "2         9842         1224      1686.0          TA        1962\n",
       "3         7200         1040      1460.0          TA        1949\n",
       "5        10029         2060      3960.0          TA        1988\n",
       "...        ...          ...         ...         ...         ...\n",
       "2339     41600         1424      3496.0          TA        1969\n",
       "2340      7750         1414      2659.0          TA        2002\n",
       "2341      8791         1728      3537.0          TA        2003\n",
       "2342      7308         1740      2901.0          Fa        1920\n",
       "2343      7200          768      2124.0          TA        1972\n",
       "\n",
       "[2210 rows x 5 columns]"
      ]
     },
     "execution_count": 22,
     "metadata": {},
     "output_type": "execute_result"
    }
   ],
   "source": [
    "X_train[numerical_features + ordinal_features].loc[:, rfe.support_]"
   ]
  },
  {
   "cell_type": "code",
   "execution_count": 93,
   "metadata": {},
   "outputs": [],
   "source": [
    "numerical_transformer = IterativeImputer()\n",
    "ordinal_encoding= ColumnTransformer(\n",
    "    transformers=[\n",
    "        (\"other\", OrdinalEncoder(categories=[\n",
    "            [None, \"Unf\", \"RFn\", \"Fin\"]\n",
    "        ]), [\"Garage Finish\"]),\n",
    "\n",
    "        (\"qual_cond_nan\", OrdinalEncoder(categories=[\n",
    "            [\"Po\", None, \"Fa\", \"TA\", \"Gd\", \"Ex\"]\n",
    "        ]), ['Garage Qual']\n",
    "        )\n",
    "    ],\n",
    "    remainder=\"passthrough\" # Overall Qual/Cond, 'Yr Sold', 'Garage Yr Blt', 'Year Built', 'Year Remod/Add'\n",
    ")\n",
    "\n",
    "ordinal_transformer = Pipeline([\n",
    "    (\"ord_encoding\", ordinal_encoding),\n",
    "    (\"imputing\", IterativeImputer())\n",
    "])\n",
    "\n",
    "preprocessor = ColumnTransformer(\n",
    "    transformers=[\n",
    "        (\"num\", numerical_transformer, [\"Lot Area\", \"BsmtFin SF 1\", \"2nd Flr SF\", \"Gr Liv Area\", \"Garage Area\", \"House Area\"]),\n",
    "        (\"ord\", ordinal_transformer, [\"Garage Finish\", \"Garage Qual\", \"Year Built\", \"Year Remod/Add\"])\n",
    "    ],\n",
    "    remainder=\"drop\"\n",
    ")\n",
    "\n",
    "inference_pipeline = Pipeline([\n",
    "    (\"preprocessor\", preprocessor),\n",
    "    (\"model\", LinearRegression())\n",
    "])"
   ]
  },
  {
   "cell_type": "code",
   "execution_count": 94,
   "metadata": {},
   "outputs": [
    {
     "ename": "NameError",
     "evalue": "name 'rfe' is not defined",
     "output_type": "error",
     "traceback": [
      "\u001b[0;31m---------------------------------------------------------------------------\u001b[0m",
      "\u001b[0;31mNameError\u001b[0m                                 Traceback (most recent call last)",
      "\u001b[1;32m/Users/rom1/Documents/VSCode/cours/ames_housing/feature_selection.ipynb Cellule 33\u001b[0m in \u001b[0;36m<cell line: 1>\u001b[0;34m()\u001b[0m\n\u001b[0;32m----> <a href='vscode-notebook-cell:/Users/rom1/Documents/VSCode/cours/ames_housing/feature_selection.ipynb#X45sZmlsZQ%3D%3D?line=0'>1</a>\u001b[0m rfe_columns \u001b[39m=\u001b[39m X_train[numerical_features \u001b[39m+\u001b[39m ordinal_features]\u001b[39m.\u001b[39mloc[:, rfe\u001b[39m.\u001b[39msupport_]\u001b[39m.\u001b[39mcolumns\n\u001b[1;32m      <a href='vscode-notebook-cell:/Users/rom1/Documents/VSCode/cours/ames_housing/feature_selection.ipynb#X45sZmlsZQ%3D%3D?line=1'>2</a>\u001b[0m inference_pipeline\u001b[39m.\u001b[39mfit(X_train[rfe_columns], y_train)\n",
      "\u001b[0;31mNameError\u001b[0m: name 'rfe' is not defined"
     ]
    }
   ],
   "source": [
    "rfe_columns = X_train[numerical_features + ordinal_features].loc[:, rfe.support_].columns\n",
    "inference_pipeline.fit(X_train[rfe_columns], y_train)"
   ]
  },
  {
   "cell_type": "code",
   "execution_count": null,
   "metadata": {},
   "outputs": [],
   "source": [
    "X_test = df_test.drop(\"SalePrice\", axis=1)\n",
    "y_test = df_test[\"SalePrice\"]"
   ]
  },
  {
   "cell_type": "code",
   "execution_count": null,
   "metadata": {},
   "outputs": [
    {
     "ename": "AttributeError",
     "evalue": "'ColumnTransformer' object has no attribute 'transformers_'",
     "output_type": "error",
     "traceback": [
      "\u001b[0;31m---------------------------------------------------------------------------\u001b[0m",
      "\u001b[0;31mAttributeError\u001b[0m                            Traceback (most recent call last)",
      "\u001b[1;32m/Users/rom1/Documents/VSCode/cours/ames_housing/feature_selection.ipynb Cellule 34\u001b[0m in \u001b[0;36m<cell line: 1>\u001b[0;34m()\u001b[0m\n\u001b[0;32m----> <a href='vscode-notebook-cell:/Users/rom1/Documents/VSCode/cours/ames_housing/feature_selection.ipynb#X45sZmlsZQ%3D%3D?line=0'>1</a>\u001b[0m compare_to_base(\u001b[39m*\u001b[39mmae(inference_pipeline, X_train[rfe_columns], y_train, X_test[rfe_columns], y_test))\n",
      "\u001b[1;32m/Users/rom1/Documents/VSCode/cours/ames_housing/feature_selection.ipynb Cellule 34\u001b[0m in \u001b[0;36mmae\u001b[0;34m(model, X_train, y_train, X_test, y_test)\u001b[0m\n\u001b[1;32m      <a href='vscode-notebook-cell:/Users/rom1/Documents/VSCode/cours/ames_housing/feature_selection.ipynb#X45sZmlsZQ%3D%3D?line=6'>7</a>\u001b[0m \u001b[39mdef\u001b[39;00m \u001b[39mmae\u001b[39m(model, X_train, y_train, X_test, y_test):\n\u001b[0;32m----> <a href='vscode-notebook-cell:/Users/rom1/Documents/VSCode/cours/ames_housing/feature_selection.ipynb#X45sZmlsZQ%3D%3D?line=7'>8</a>\u001b[0m     y_pred_train \u001b[39m=\u001b[39m model\u001b[39m.\u001b[39;49mpredict(X_train)\n\u001b[1;32m      <a href='vscode-notebook-cell:/Users/rom1/Documents/VSCode/cours/ames_housing/feature_selection.ipynb#X45sZmlsZQ%3D%3D?line=8'>9</a>\u001b[0m     y_pred_test \u001b[39m=\u001b[39m model\u001b[39m.\u001b[39mpredict(X_test)\n\u001b[1;32m     <a href='vscode-notebook-cell:/Users/rom1/Documents/VSCode/cours/ames_housing/feature_selection.ipynb#X45sZmlsZQ%3D%3D?line=10'>11</a>\u001b[0m     train_mae \u001b[39m=\u001b[39m mean_absolute_error(y_train, y_pred_train)\n",
      "File \u001b[0;32m~/opt/anaconda3/envs/datascience/lib/python3.10/site-packages/sklearn/utils/metaestimators.py:113\u001b[0m, in \u001b[0;36m_AvailableIfDescriptor.__get__.<locals>.<lambda>\u001b[0;34m(*args, **kwargs)\u001b[0m\n\u001b[1;32m    110\u001b[0m         \u001b[39mraise\u001b[39;00m attr_err\n\u001b[1;32m    112\u001b[0m     \u001b[39m# lambda, but not partial, allows help() to work with update_wrapper\u001b[39;00m\n\u001b[0;32m--> 113\u001b[0m     out \u001b[39m=\u001b[39m \u001b[39mlambda\u001b[39;00m \u001b[39m*\u001b[39margs, \u001b[39m*\u001b[39m\u001b[39m*\u001b[39mkwargs: \u001b[39mself\u001b[39;49m\u001b[39m.\u001b[39;49mfn(obj, \u001b[39m*\u001b[39;49margs, \u001b[39m*\u001b[39;49m\u001b[39m*\u001b[39;49mkwargs)  \u001b[39m# noqa\u001b[39;00m\n\u001b[1;32m    114\u001b[0m \u001b[39melse\u001b[39;00m:\n\u001b[1;32m    116\u001b[0m     \u001b[39mdef\u001b[39;00m \u001b[39mfn\u001b[39m(\u001b[39m*\u001b[39margs, \u001b[39m*\u001b[39m\u001b[39m*\u001b[39mkwargs):\n",
      "File \u001b[0;32m~/opt/anaconda3/envs/datascience/lib/python3.10/site-packages/sklearn/pipeline.py:469\u001b[0m, in \u001b[0;36mPipeline.predict\u001b[0;34m(self, X, **predict_params)\u001b[0m\n\u001b[1;32m    467\u001b[0m Xt \u001b[39m=\u001b[39m X\n\u001b[1;32m    468\u001b[0m \u001b[39mfor\u001b[39;00m _, name, transform \u001b[39min\u001b[39;00m \u001b[39mself\u001b[39m\u001b[39m.\u001b[39m_iter(with_final\u001b[39m=\u001b[39m\u001b[39mFalse\u001b[39;00m):\n\u001b[0;32m--> 469\u001b[0m     Xt \u001b[39m=\u001b[39m transform\u001b[39m.\u001b[39;49mtransform(Xt)\n\u001b[1;32m    470\u001b[0m \u001b[39mreturn\u001b[39;00m \u001b[39mself\u001b[39m\u001b[39m.\u001b[39msteps[\u001b[39m-\u001b[39m\u001b[39m1\u001b[39m][\u001b[39m1\u001b[39m]\u001b[39m.\u001b[39mpredict(Xt, \u001b[39m*\u001b[39m\u001b[39m*\u001b[39mpredict_params)\n",
      "File \u001b[0;32m~/opt/anaconda3/envs/datascience/lib/python3.10/site-packages/sklearn/compose/_column_transformer.py:726\u001b[0m, in \u001b[0;36mColumnTransformer.transform\u001b[0;34m(self, X)\u001b[0m\n\u001b[1;32m    721\u001b[0m fit_dataframe_and_transform_dataframe \u001b[39m=\u001b[39m \u001b[39mhasattr\u001b[39m(\n\u001b[1;32m    722\u001b[0m     \u001b[39mself\u001b[39m, \u001b[39m\"\u001b[39m\u001b[39mfeature_names_in_\u001b[39m\u001b[39m\"\u001b[39m\n\u001b[1;32m    723\u001b[0m ) \u001b[39mand\u001b[39;00m \u001b[39mhasattr\u001b[39m(X, \u001b[39m\"\u001b[39m\u001b[39mcolumns\u001b[39m\u001b[39m\"\u001b[39m)\n\u001b[1;32m    725\u001b[0m \u001b[39mif\u001b[39;00m fit_dataframe_and_transform_dataframe:\n\u001b[0;32m--> 726\u001b[0m     named_transformers \u001b[39m=\u001b[39m \u001b[39mself\u001b[39;49m\u001b[39m.\u001b[39;49mnamed_transformers_\n\u001b[1;32m    727\u001b[0m     \u001b[39m# check that all names seen in fit are in transform, unless\u001b[39;00m\n\u001b[1;32m    728\u001b[0m     \u001b[39m# they were dropped\u001b[39;00m\n\u001b[1;32m    729\u001b[0m     non_dropped_indices \u001b[39m=\u001b[39m [\n\u001b[1;32m    730\u001b[0m         ind\n\u001b[1;32m    731\u001b[0m         \u001b[39mfor\u001b[39;00m name, ind \u001b[39min\u001b[39;00m \u001b[39mself\u001b[39m\u001b[39m.\u001b[39m_transformer_to_input_indices\u001b[39m.\u001b[39mitems()\n\u001b[0;32m   (...)\u001b[0m\n\u001b[1;32m    734\u001b[0m         \u001b[39mand\u001b[39;00m named_transformers[name] \u001b[39m!=\u001b[39m \u001b[39m\"\u001b[39m\u001b[39mdrop\u001b[39m\u001b[39m\"\u001b[39m\n\u001b[1;32m    735\u001b[0m     ]\n",
      "File \u001b[0;32m~/opt/anaconda3/envs/datascience/lib/python3.10/site-packages/sklearn/compose/_column_transformer.py:387\u001b[0m, in \u001b[0;36mColumnTransformer.named_transformers_\u001b[0;34m(self)\u001b[0m\n\u001b[1;32m    380\u001b[0m \u001b[39m\"\"\"Access the fitted transformer by name.\u001b[39;00m\n\u001b[1;32m    381\u001b[0m \n\u001b[1;32m    382\u001b[0m \u001b[39mRead-only attribute to access any transformer by given name.\u001b[39;00m\n\u001b[1;32m    383\u001b[0m \u001b[39mKeys are transformer names and values are the fitted transformer\u001b[39;00m\n\u001b[1;32m    384\u001b[0m \u001b[39mobjects.\u001b[39;00m\n\u001b[1;32m    385\u001b[0m \u001b[39m\"\"\"\u001b[39;00m\n\u001b[1;32m    386\u001b[0m \u001b[39m# Use Bunch object to improve autocomplete\u001b[39;00m\n\u001b[0;32m--> 387\u001b[0m \u001b[39mreturn\u001b[39;00m Bunch(\u001b[39m*\u001b[39m\u001b[39m*\u001b[39m{name: trans \u001b[39mfor\u001b[39;00m name, trans, _ \u001b[39min\u001b[39;00m \u001b[39mself\u001b[39;49m\u001b[39m.\u001b[39;49mtransformers_})\n",
      "\u001b[0;31mAttributeError\u001b[0m: 'ColumnTransformer' object has no attribute 'transformers_'"
     ]
    }
   ],
   "source": [
    "compare_to_base(*mae(inference_pipeline, X_train[rfe_columns], y_train, X_test[rfe_columns], y_test))"
   ]
  },
  {
   "cell_type": "code",
   "execution_count": 19,
   "metadata": {},
   "outputs": [
    {
     "name": "stderr",
     "output_type": "stream",
     "text": [
      "/Users/rom1/opt/anaconda3/envs/datascience/lib/python3.10/site-packages/xgboost/compat.py:36: FutureWarning: pandas.Int64Index is deprecated and will be removed from pandas in a future version. Use pandas.Index with the appropriate dtype instead.\n",
      "  from pandas import MultiIndex, Int64Index\n"
     ]
    }
   ],
   "source": [
    "from catboost import CatBoostRegressor, Pool, EShapCalcType, EFeaturesSelectionAlgorithm"
   ]
  },
  {
   "cell_type": "code",
   "execution_count": 68,
   "metadata": {},
   "outputs": [],
   "source": [
    "most_frequent_values = df_train.value_counts().idxmax()\n",
    "fillna_dict = {col: most_frequent_values[i] for i, col in enumerate(df_train.columns)}\n",
    "\n",
    "df_train_cb = df_train.fillna(fillna_dict)\n",
    "X_train_cb = df_train_cb.drop(\"SalePrice\", axis=1)\n",
    "y_train_cb = df_train_cb[\"SalePrice\"]\n",
    "\n",
    "df_test_cb = df_test.fillna(fillna_dict)\n",
    "X_test_cb = df_test_cb.drop(\"SalePrice\", axis=1)\n",
    "y_test_cb = df_test_cb[\"SalePrice\"]"
   ]
  },
  {
   "cell_type": "code",
   "execution_count": 70,
   "metadata": {},
   "outputs": [
    {
     "data": {
      "application/vnd.jupyter.widget-view+json": {
       "model_id": "d52e6a6dd365445a874280ff9f4e6585",
       "version_major": 2,
       "version_minor": 0
      },
      "text/plain": [
       "MetricVisualizer(layout=Layout(align_self='stretch', height='500px'))"
      ]
     },
     "metadata": {},
     "output_type": "display_data"
    },
    {
     "data": {
      "application/vnd.plotly.v1+json": {
       "config": {
        "plotlyServerURL": "https://plot.ly"
       },
       "data": [
        {
         "line": {
          "color": "rgb(51,160,44)"
         },
         "mode": "lines+markers",
         "name": "",
         "text": [
          "",
          "2nd Flr SF",
          "Lot Shape",
          "Bsmt Unf SF",
          "Yr Sold",
          "Total Bsmt SF",
          "Land Contour",
          "Mo Sold",
          "Lot Frontage",
          "Pool Area",
          "Fireplace Qu",
          "BsmtFin SF 2",
          "Exterior 2nd",
          "Exterior 1st",
          "Central Air",
          "Garage Type",
          "Exter Cond",
          "Bsmt Half Bath",
          "Heating",
          "Roof Matl",
          "3Ssn Porch",
          "Low Qual Fin SF",
          "Pool QC",
          "Land Slope",
          "Utilities",
          "Garage Area",
          "MS SubClass",
          "Garage Cond",
          "Garage Qual",
          "Bsmt Cond",
          "Street",
          "BsmtFin Type 2",
          "Enclosed Porch",
          "Misc Val",
          "Electrical",
          "Wood Deck SF",
          "Foundation",
          "House Style",
          "Roof Style",
          "Full Bath",
          "1st Flr SF",
          "TotRms AbvGrd",
          "Kitchen AbvGr",
          "Bedroom AbvGr",
          "Bsmt Full Bath",
          "Mas Vnr Type",
          "Screen Porch",
          "Lot Config",
          "Heating QC",
          "Open Porch SF",
          "Condition 2",
          "Bldg Type",
          "Functional",
          "Sale Type",
          "Garage Cars",
          "Half Bath",
          "Mas Vnr Area",
          "Paved Drive",
          "Garage Finish",
          "BsmtFin Type 1",
          "Garage Yr Blt",
          "Bsmt Exposure",
          "MS Zoning",
          "Overall Cond",
          "Condition 1",
          "Sale Condition",
          "Lot Area",
          "Exter Qual"
         ],
         "type": "scatter",
         "x": [
          0,
          1,
          2,
          3,
          4,
          5,
          6,
          7,
          8,
          9,
          10,
          11,
          12,
          13,
          14,
          15,
          16,
          17,
          18,
          19,
          20,
          21,
          22,
          23,
          24,
          25,
          26,
          27,
          28,
          29,
          30,
          31,
          32,
          33,
          34,
          35,
          36,
          37,
          38,
          39,
          40,
          41,
          42,
          43,
          44,
          45,
          46,
          47,
          48,
          49,
          50,
          51,
          52,
          53,
          54,
          55,
          56,
          57,
          58,
          59,
          60,
          61,
          62,
          63,
          64,
          65,
          66,
          67
         ],
         "y": [
          26040.26764673141,
          25611.683820318067,
          25382.283871934815,
          25244.740942893033,
          25162.214135576316,
          25088.2379664727,
          25040.125516883385,
          25000.79595140477,
          24975.75027940678,
          24954.1761997379,
          24932.881504324854,
          24912.197030828927,
          24895.8060204857,
          24885.404805884064,
          24875.772361928663,
          24870.849882345505,
          24868.341076061748,
          24865.87058697312,
          24863.75388313122,
          24861.767679074186,
          24860.484679745867,
          24860.484679745863,
          24860.64571336412,
          24861.203944568446,
          24864.573981081532,
          24868.910776263503,
          24874.951133074857,
          24881.702726408483,
          24888.624895124594,
          24895.69399044544,
          24903.16317792657,
          24910.83961525406,
          24918.83267043427,
          24926.923027205212,
          24936.909465818284,
          24944.13251550941,
          24957.196990049568,
          24971.60046821359,
          24986.132767086576,
          25134.178786496974,
          25214.625616953952,
          25245.52990587253,
          25248.5355627332,
          25244.99213628539,
          25239.144747987797,
          25224.248116530598,
          25201.255635850484,
          25176.074323399655,
          25148.664637898022,
          25112.349937060408,
          25071.575320896372,
          25021.020030746393,
          24968.112313942678,
          24901.135355359922,
          24823.79459648917,
          24726.22844171222,
          24613.580009103185,
          24476.850538871764,
          24428.981092690465,
          24421.33290120196,
          24471.733772592845,
          24552.830001639035,
          24649.252578281554,
          24766.207063982387,
          24882.66156455912,
          25054.541622665936,
          25323.442443144795,
          25681.21233284358
         ]
        },
        {
         "marker": {
          "size": 10,
          "symbol": "square"
         },
         "mode": "markers",
         "name": "",
         "text": [
          "",
          "Roof Style",
          "Paved Drive",
          "Exter Qual"
         ],
         "type": "scatter",
         "x": [
          0,
          38,
          57,
          67
         ],
         "y": [
          26040.26764673141,
          24986.132767086576,
          24476.850538871764,
          25681.21233284358
         ]
        },
        {
         "mode": "text",
         "name": "",
         "text": [
          "",
          "42",
          "5",
          "35",
          "73",
          "36",
          "6",
          "72",
          "2",
          "69",
          "55",
          "34",
          "22",
          "21",
          "39",
          "56",
          "26",
          "46",
          "37",
          "20",
          "67",
          "43",
          "70",
          "9",
          "7",
          "60",
          "0",
          "62",
          "61",
          "29",
          "4",
          "33",
          "66",
          "71",
          "40",
          "64",
          "27",
          "14",
          "19",
          "47",
          "41",
          "52",
          "50",
          "49",
          "45",
          "23",
          "68",
          "8",
          "38",
          "65",
          "12",
          "13",
          "53",
          "74",
          "59",
          "48",
          "24",
          "63",
          "58",
          "31",
          "57",
          "30",
          "1",
          "16",
          "11",
          "75",
          "3",
          "25"
         ],
         "textfont": {
          "color": "rgb(51,160,44)",
          "family": "sans serif",
          "size": 18
         },
         "textposition": "bottom center",
         "type": "scatter",
         "visible": false,
         "x": [
          0,
          1,
          2,
          3,
          4,
          5,
          6,
          7,
          8,
          9,
          10,
          11,
          12,
          13,
          14,
          15,
          16,
          17,
          18,
          19,
          20,
          21,
          22,
          23,
          24,
          25,
          26,
          27,
          28,
          29,
          30,
          31,
          32,
          33,
          34,
          35,
          36,
          37,
          38,
          39,
          40,
          41,
          42,
          43,
          44,
          45,
          46,
          47,
          48,
          49,
          50,
          51,
          52,
          53,
          54,
          55,
          56,
          57,
          58,
          59,
          60,
          61,
          62,
          63,
          64,
          65,
          66,
          67
         ],
         "y": [
          26040.26764673141,
          25611.683820318067,
          25382.283871934815,
          25244.740942893033,
          25162.214135576316,
          25088.2379664727,
          25040.125516883385,
          25000.79595140477,
          24975.75027940678,
          24954.1761997379,
          24932.881504324854,
          24912.197030828927,
          24895.8060204857,
          24885.404805884064,
          24875.772361928663,
          24870.849882345505,
          24868.341076061748,
          24865.87058697312,
          24863.75388313122,
          24861.767679074186,
          24860.484679745867,
          24860.484679745863,
          24860.64571336412,
          24861.203944568446,
          24864.573981081532,
          24868.910776263503,
          24874.951133074857,
          24881.702726408483,
          24888.624895124594,
          24895.69399044544,
          24903.16317792657,
          24910.83961525406,
          24918.83267043427,
          24926.923027205212,
          24936.909465818284,
          24944.13251550941,
          24957.196990049568,
          24971.60046821359,
          24986.132767086576,
          25134.178786496974,
          25214.625616953952,
          25245.52990587253,
          25248.5355627332,
          25244.99213628539,
          25239.144747987797,
          25224.248116530598,
          25201.255635850484,
          25176.074323399655,
          25148.664637898022,
          25112.349937060408,
          25071.575320896372,
          25021.020030746393,
          24968.112313942678,
          24901.135355359922,
          24823.79459648917,
          24726.22844171222,
          24613.580009103185,
          24476.850538871764,
          24428.981092690465,
          24421.33290120196,
          24471.733772592845,
          24552.830001639035,
          24649.252578281554,
          24766.207063982387,
          24882.66156455912,
          25054.541622665936,
          25323.442443144795,
          25681.21233284358
         ]
        },
        {
         "mode": "text",
         "name": "",
         "text": [
          "",
          "2nd Flr SF",
          "Lot Shape",
          "Bsmt Unf SF",
          "Yr Sold",
          "Total Bsmt SF",
          "Land Contour",
          "Mo Sold",
          "Lot Frontage",
          "Pool Area",
          "Fireplace Qu",
          "BsmtFin SF 2",
          "Exterior 2nd",
          "Exterior 1st",
          "Central Air",
          "Garage Type",
          "Exter Cond",
          "Bsmt Half Bath",
          "Heating",
          "Roof Matl",
          "3Ssn Porch",
          "Low Qual Fin SF",
          "Pool QC",
          "Land Slope",
          "Utilities",
          "Garage Area",
          "MS SubClass",
          "Garage Cond",
          "Garage Qual",
          "Bsmt Cond",
          "Street",
          "BsmtFin Type 2",
          "Enclosed Porch",
          "Misc Val",
          "Electrical",
          "Wood Deck SF",
          "Foundation",
          "House Style",
          "Roof Style",
          "Full Bath",
          "1st Flr SF",
          "TotRms AbvGrd",
          "Kitchen AbvGr",
          "Bedroom AbvGr",
          "Bsmt Full Bath",
          "Mas Vnr Type",
          "Screen Porch",
          "Lot Config",
          "Heating QC",
          "Open Porch SF",
          "Condition 2",
          "Bldg Type",
          "Functional",
          "Sale Type",
          "Garage Cars",
          "Half Bath",
          "Mas Vnr Area",
          "Paved Drive",
          "Garage Finish",
          "BsmtFin Type 1",
          "Garage Yr Blt",
          "Bsmt Exposure",
          "MS Zoning",
          "Overall Cond",
          "Condition 1",
          "Sale Condition",
          "Lot Area",
          "Exter Qual"
         ],
         "textfont": {
          "color": "rgb(51,160,44)",
          "family": "sans serif",
          "size": 18
         },
         "textposition": "bottom center",
         "type": "scatter",
         "visible": false,
         "x": [
          0,
          1,
          2,
          3,
          4,
          5,
          6,
          7,
          8,
          9,
          10,
          11,
          12,
          13,
          14,
          15,
          16,
          17,
          18,
          19,
          20,
          21,
          22,
          23,
          24,
          25,
          26,
          27,
          28,
          29,
          30,
          31,
          32,
          33,
          34,
          35,
          36,
          37,
          38,
          39,
          40,
          41,
          42,
          43,
          44,
          45,
          46,
          47,
          48,
          49,
          50,
          51,
          52,
          53,
          54,
          55,
          56,
          57,
          58,
          59,
          60,
          61,
          62,
          63,
          64,
          65,
          66,
          67
         ],
         "y": [
          26040.26764673141,
          25611.683820318067,
          25382.283871934815,
          25244.740942893033,
          25162.214135576316,
          25088.2379664727,
          25040.125516883385,
          25000.79595140477,
          24975.75027940678,
          24954.1761997379,
          24932.881504324854,
          24912.197030828927,
          24895.8060204857,
          24885.404805884064,
          24875.772361928663,
          24870.849882345505,
          24868.341076061748,
          24865.87058697312,
          24863.75388313122,
          24861.767679074186,
          24860.484679745867,
          24860.484679745863,
          24860.64571336412,
          24861.203944568446,
          24864.573981081532,
          24868.910776263503,
          24874.951133074857,
          24881.702726408483,
          24888.624895124594,
          24895.69399044544,
          24903.16317792657,
          24910.83961525406,
          24918.83267043427,
          24926.923027205212,
          24936.909465818284,
          24944.13251550941,
          24957.196990049568,
          24971.60046821359,
          24986.132767086576,
          25134.178786496974,
          25214.625616953952,
          25245.52990587253,
          25248.5355627332,
          25244.99213628539,
          25239.144747987797,
          25224.248116530598,
          25201.255635850484,
          25176.074323399655,
          25148.664637898022,
          25112.349937060408,
          25071.575320896372,
          25021.020030746393,
          24968.112313942678,
          24901.135355359922,
          24823.79459648917,
          24726.22844171222,
          24613.580009103185,
          24476.850538871764,
          24428.981092690465,
          24421.33290120196,
          24471.733772592845,
          24552.830001639035,
          24649.252578281554,
          24766.207063982387,
          24882.66156455912,
          25054.541622665936,
          25323.442443144795,
          25681.21233284358
         ]
        }
       ],
       "layout": {
        "showlegend": false,
        "template": {
         "data": {
          "bar": [
           {
            "error_x": {
             "color": "#2a3f5f"
            },
            "error_y": {
             "color": "#2a3f5f"
            },
            "marker": {
             "line": {
              "color": "#E5ECF6",
              "width": 0.5
             },
             "pattern": {
              "fillmode": "overlay",
              "size": 10,
              "solidity": 0.2
             }
            },
            "type": "bar"
           }
          ],
          "barpolar": [
           {
            "marker": {
             "line": {
              "color": "#E5ECF6",
              "width": 0.5
             },
             "pattern": {
              "fillmode": "overlay",
              "size": 10,
              "solidity": 0.2
             }
            },
            "type": "barpolar"
           }
          ],
          "carpet": [
           {
            "aaxis": {
             "endlinecolor": "#2a3f5f",
             "gridcolor": "white",
             "linecolor": "white",
             "minorgridcolor": "white",
             "startlinecolor": "#2a3f5f"
            },
            "baxis": {
             "endlinecolor": "#2a3f5f",
             "gridcolor": "white",
             "linecolor": "white",
             "minorgridcolor": "white",
             "startlinecolor": "#2a3f5f"
            },
            "type": "carpet"
           }
          ],
          "choropleth": [
           {
            "colorbar": {
             "outlinewidth": 0,
             "ticks": ""
            },
            "type": "choropleth"
           }
          ],
          "contour": [
           {
            "colorbar": {
             "outlinewidth": 0,
             "ticks": ""
            },
            "colorscale": [
             [
              0,
              "#0d0887"
             ],
             [
              0.1111111111111111,
              "#46039f"
             ],
             [
              0.2222222222222222,
              "#7201a8"
             ],
             [
              0.3333333333333333,
              "#9c179e"
             ],
             [
              0.4444444444444444,
              "#bd3786"
             ],
             [
              0.5555555555555556,
              "#d8576b"
             ],
             [
              0.6666666666666666,
              "#ed7953"
             ],
             [
              0.7777777777777778,
              "#fb9f3a"
             ],
             [
              0.8888888888888888,
              "#fdca26"
             ],
             [
              1,
              "#f0f921"
             ]
            ],
            "type": "contour"
           }
          ],
          "contourcarpet": [
           {
            "colorbar": {
             "outlinewidth": 0,
             "ticks": ""
            },
            "type": "contourcarpet"
           }
          ],
          "heatmap": [
           {
            "colorbar": {
             "outlinewidth": 0,
             "ticks": ""
            },
            "colorscale": [
             [
              0,
              "#0d0887"
             ],
             [
              0.1111111111111111,
              "#46039f"
             ],
             [
              0.2222222222222222,
              "#7201a8"
             ],
             [
              0.3333333333333333,
              "#9c179e"
             ],
             [
              0.4444444444444444,
              "#bd3786"
             ],
             [
              0.5555555555555556,
              "#d8576b"
             ],
             [
              0.6666666666666666,
              "#ed7953"
             ],
             [
              0.7777777777777778,
              "#fb9f3a"
             ],
             [
              0.8888888888888888,
              "#fdca26"
             ],
             [
              1,
              "#f0f921"
             ]
            ],
            "type": "heatmap"
           }
          ],
          "heatmapgl": [
           {
            "colorbar": {
             "outlinewidth": 0,
             "ticks": ""
            },
            "colorscale": [
             [
              0,
              "#0d0887"
             ],
             [
              0.1111111111111111,
              "#46039f"
             ],
             [
              0.2222222222222222,
              "#7201a8"
             ],
             [
              0.3333333333333333,
              "#9c179e"
             ],
             [
              0.4444444444444444,
              "#bd3786"
             ],
             [
              0.5555555555555556,
              "#d8576b"
             ],
             [
              0.6666666666666666,
              "#ed7953"
             ],
             [
              0.7777777777777778,
              "#fb9f3a"
             ],
             [
              0.8888888888888888,
              "#fdca26"
             ],
             [
              1,
              "#f0f921"
             ]
            ],
            "type": "heatmapgl"
           }
          ],
          "histogram": [
           {
            "marker": {
             "pattern": {
              "fillmode": "overlay",
              "size": 10,
              "solidity": 0.2
             }
            },
            "type": "histogram"
           }
          ],
          "histogram2d": [
           {
            "colorbar": {
             "outlinewidth": 0,
             "ticks": ""
            },
            "colorscale": [
             [
              0,
              "#0d0887"
             ],
             [
              0.1111111111111111,
              "#46039f"
             ],
             [
              0.2222222222222222,
              "#7201a8"
             ],
             [
              0.3333333333333333,
              "#9c179e"
             ],
             [
              0.4444444444444444,
              "#bd3786"
             ],
             [
              0.5555555555555556,
              "#d8576b"
             ],
             [
              0.6666666666666666,
              "#ed7953"
             ],
             [
              0.7777777777777778,
              "#fb9f3a"
             ],
             [
              0.8888888888888888,
              "#fdca26"
             ],
             [
              1,
              "#f0f921"
             ]
            ],
            "type": "histogram2d"
           }
          ],
          "histogram2dcontour": [
           {
            "colorbar": {
             "outlinewidth": 0,
             "ticks": ""
            },
            "colorscale": [
             [
              0,
              "#0d0887"
             ],
             [
              0.1111111111111111,
              "#46039f"
             ],
             [
              0.2222222222222222,
              "#7201a8"
             ],
             [
              0.3333333333333333,
              "#9c179e"
             ],
             [
              0.4444444444444444,
              "#bd3786"
             ],
             [
              0.5555555555555556,
              "#d8576b"
             ],
             [
              0.6666666666666666,
              "#ed7953"
             ],
             [
              0.7777777777777778,
              "#fb9f3a"
             ],
             [
              0.8888888888888888,
              "#fdca26"
             ],
             [
              1,
              "#f0f921"
             ]
            ],
            "type": "histogram2dcontour"
           }
          ],
          "mesh3d": [
           {
            "colorbar": {
             "outlinewidth": 0,
             "ticks": ""
            },
            "type": "mesh3d"
           }
          ],
          "parcoords": [
           {
            "line": {
             "colorbar": {
              "outlinewidth": 0,
              "ticks": ""
             }
            },
            "type": "parcoords"
           }
          ],
          "pie": [
           {
            "automargin": true,
            "type": "pie"
           }
          ],
          "scatter": [
           {
            "marker": {
             "colorbar": {
              "outlinewidth": 0,
              "ticks": ""
             }
            },
            "type": "scatter"
           }
          ],
          "scatter3d": [
           {
            "line": {
             "colorbar": {
              "outlinewidth": 0,
              "ticks": ""
             }
            },
            "marker": {
             "colorbar": {
              "outlinewidth": 0,
              "ticks": ""
             }
            },
            "type": "scatter3d"
           }
          ],
          "scattercarpet": [
           {
            "marker": {
             "colorbar": {
              "outlinewidth": 0,
              "ticks": ""
             }
            },
            "type": "scattercarpet"
           }
          ],
          "scattergeo": [
           {
            "marker": {
             "colorbar": {
              "outlinewidth": 0,
              "ticks": ""
             }
            },
            "type": "scattergeo"
           }
          ],
          "scattergl": [
           {
            "marker": {
             "colorbar": {
              "outlinewidth": 0,
              "ticks": ""
             }
            },
            "type": "scattergl"
           }
          ],
          "scattermapbox": [
           {
            "marker": {
             "colorbar": {
              "outlinewidth": 0,
              "ticks": ""
             }
            },
            "type": "scattermapbox"
           }
          ],
          "scatterpolar": [
           {
            "marker": {
             "colorbar": {
              "outlinewidth": 0,
              "ticks": ""
             }
            },
            "type": "scatterpolar"
           }
          ],
          "scatterpolargl": [
           {
            "marker": {
             "colorbar": {
              "outlinewidth": 0,
              "ticks": ""
             }
            },
            "type": "scatterpolargl"
           }
          ],
          "scatterternary": [
           {
            "marker": {
             "colorbar": {
              "outlinewidth": 0,
              "ticks": ""
             }
            },
            "type": "scatterternary"
           }
          ],
          "surface": [
           {
            "colorbar": {
             "outlinewidth": 0,
             "ticks": ""
            },
            "colorscale": [
             [
              0,
              "#0d0887"
             ],
             [
              0.1111111111111111,
              "#46039f"
             ],
             [
              0.2222222222222222,
              "#7201a8"
             ],
             [
              0.3333333333333333,
              "#9c179e"
             ],
             [
              0.4444444444444444,
              "#bd3786"
             ],
             [
              0.5555555555555556,
              "#d8576b"
             ],
             [
              0.6666666666666666,
              "#ed7953"
             ],
             [
              0.7777777777777778,
              "#fb9f3a"
             ],
             [
              0.8888888888888888,
              "#fdca26"
             ],
             [
              1,
              "#f0f921"
             ]
            ],
            "type": "surface"
           }
          ],
          "table": [
           {
            "cells": {
             "fill": {
              "color": "#EBF0F8"
             },
             "line": {
              "color": "white"
             }
            },
            "header": {
             "fill": {
              "color": "#C8D4E3"
             },
             "line": {
              "color": "white"
             }
            },
            "type": "table"
           }
          ]
         },
         "layout": {
          "annotationdefaults": {
           "arrowcolor": "#2a3f5f",
           "arrowhead": 0,
           "arrowwidth": 1
          },
          "autotypenumbers": "strict",
          "coloraxis": {
           "colorbar": {
            "outlinewidth": 0,
            "ticks": ""
           }
          },
          "colorscale": {
           "diverging": [
            [
             0,
             "#8e0152"
            ],
            [
             0.1,
             "#c51b7d"
            ],
            [
             0.2,
             "#de77ae"
            ],
            [
             0.3,
             "#f1b6da"
            ],
            [
             0.4,
             "#fde0ef"
            ],
            [
             0.5,
             "#f7f7f7"
            ],
            [
             0.6,
             "#e6f5d0"
            ],
            [
             0.7,
             "#b8e186"
            ],
            [
             0.8,
             "#7fbc41"
            ],
            [
             0.9,
             "#4d9221"
            ],
            [
             1,
             "#276419"
            ]
           ],
           "sequential": [
            [
             0,
             "#0d0887"
            ],
            [
             0.1111111111111111,
             "#46039f"
            ],
            [
             0.2222222222222222,
             "#7201a8"
            ],
            [
             0.3333333333333333,
             "#9c179e"
            ],
            [
             0.4444444444444444,
             "#bd3786"
            ],
            [
             0.5555555555555556,
             "#d8576b"
            ],
            [
             0.6666666666666666,
             "#ed7953"
            ],
            [
             0.7777777777777778,
             "#fb9f3a"
            ],
            [
             0.8888888888888888,
             "#fdca26"
            ],
            [
             1,
             "#f0f921"
            ]
           ],
           "sequentialminus": [
            [
             0,
             "#0d0887"
            ],
            [
             0.1111111111111111,
             "#46039f"
            ],
            [
             0.2222222222222222,
             "#7201a8"
            ],
            [
             0.3333333333333333,
             "#9c179e"
            ],
            [
             0.4444444444444444,
             "#bd3786"
            ],
            [
             0.5555555555555556,
             "#d8576b"
            ],
            [
             0.6666666666666666,
             "#ed7953"
            ],
            [
             0.7777777777777778,
             "#fb9f3a"
            ],
            [
             0.8888888888888888,
             "#fdca26"
            ],
            [
             1,
             "#f0f921"
            ]
           ]
          },
          "colorway": [
           "#636efa",
           "#EF553B",
           "#00cc96",
           "#ab63fa",
           "#FFA15A",
           "#19d3f3",
           "#FF6692",
           "#B6E880",
           "#FF97FF",
           "#FECB52"
          ],
          "font": {
           "color": "#2a3f5f"
          },
          "geo": {
           "bgcolor": "white",
           "lakecolor": "white",
           "landcolor": "#E5ECF6",
           "showlakes": true,
           "showland": true,
           "subunitcolor": "white"
          },
          "hoverlabel": {
           "align": "left"
          },
          "hovermode": "closest",
          "mapbox": {
           "style": "light"
          },
          "paper_bgcolor": "white",
          "plot_bgcolor": "#E5ECF6",
          "polar": {
           "angularaxis": {
            "gridcolor": "white",
            "linecolor": "white",
            "ticks": ""
           },
           "bgcolor": "#E5ECF6",
           "radialaxis": {
            "gridcolor": "white",
            "linecolor": "white",
            "ticks": ""
           }
          },
          "scene": {
           "xaxis": {
            "backgroundcolor": "#E5ECF6",
            "gridcolor": "white",
            "gridwidth": 2,
            "linecolor": "white",
            "showbackground": true,
            "ticks": "",
            "zerolinecolor": "white"
           },
           "yaxis": {
            "backgroundcolor": "#E5ECF6",
            "gridcolor": "white",
            "gridwidth": 2,
            "linecolor": "white",
            "showbackground": true,
            "ticks": "",
            "zerolinecolor": "white"
           },
           "zaxis": {
            "backgroundcolor": "#E5ECF6",
            "gridcolor": "white",
            "gridwidth": 2,
            "linecolor": "white",
            "showbackground": true,
            "ticks": "",
            "zerolinecolor": "white"
           }
          },
          "shapedefaults": {
           "line": {
            "color": "#2a3f5f"
           }
          },
          "ternary": {
           "aaxis": {
            "gridcolor": "white",
            "linecolor": "white",
            "ticks": ""
           },
           "baxis": {
            "gridcolor": "white",
            "linecolor": "white",
            "ticks": ""
           },
           "bgcolor": "#E5ECF6",
           "caxis": {
            "gridcolor": "white",
            "linecolor": "white",
            "ticks": ""
           }
          },
          "title": {
           "x": 0.05
          },
          "xaxis": {
           "automargin": true,
           "gridcolor": "white",
           "linecolor": "white",
           "ticks": "",
           "title": {
            "standoff": 15
           },
           "zerolinecolor": "white",
           "zerolinewidth": 2
          },
          "yaxis": {
           "automargin": true,
           "gridcolor": "white",
           "linecolor": "white",
           "ticks": "",
           "title": {
            "standoff": 15
           },
           "zerolinecolor": "white",
           "zerolinewidth": 2
          }
         }
        },
        "title": {
         "text": "Loss by eliminated features"
        },
        "updatemenus": [
         {
          "active": 0,
          "buttons": [
           {
            "args": [
             {
              "visible": [
               true,
               true,
               false,
               false
              ]
             }
            ],
            "label": "Hide features",
            "method": "update"
           },
           {
            "args": [
             {
              "visible": [
               true,
               true,
               true,
               false
              ]
             }
            ],
            "label": "Show indices",
            "method": "update"
           },
           {
            "args": [
             {
              "visible": [
               true,
               true,
               false,
               true
              ]
             }
            ],
            "label": "Show names",
            "method": "update"
           }
          ],
          "pad": {
           "r": 10,
           "t": 10
          },
          "showactive": true,
          "x": -0.25,
          "xanchor": "left",
          "y": 1.03,
          "yanchor": "top"
         }
        ],
        "xaxis": {
         "gridcolor": "rgb(255,255,255)",
         "showgrid": true,
         "showline": false,
         "showticklabels": true,
         "tickcolor": "rgb(127,127,127)",
         "ticks": "outside",
         "title": {
          "text": "number of removed features"
         },
         "zeroline": false
        },
        "yaxis": {
         "gridcolor": "rgb(255,255,255)",
         "showgrid": true,
         "showline": false,
         "showticklabels": true,
         "tickcolor": "rgb(127,127,127)",
         "tickfont": {
          "color": "rgb(51,160,44)"
         },
         "ticks": "outside",
         "title": {
          "font": {
           "color": "rgb(51,160,44)"
          },
          "text": "loss value"
         },
         "zeroline": false
        }
       }
      }
     },
     "metadata": {},
     "output_type": "display_data"
    }
   ],
   "source": [
    "model = CatBoostRegressor(iterations=5000)\n",
    "\n",
    "train_pool = Pool(X_train_cb, y_train_cb, feature_names=list(X_train_cb.columns), cat_features=list(df_train.select_dtypes(\"object\").columns))\n",
    "test_pool = Pool(X_test_cb, y_test_cb, feature_names=list(X_test_cb.columns), cat_features=list(df_train.select_dtypes(\"object\").columns))\n",
    "\n",
    "summary = model.select_features(\n",
    "    train_pool,\n",
    "    eval_set=test_pool,\n",
    "    features_for_select=list(X_train_cb.columns),\n",
    "    num_features_to_select=10,\n",
    "    steps=3,\n",
    "    algorithm=EFeaturesSelectionAlgorithm.RecursiveByShapValues,\n",
    "    shap_calc_type=EShapCalcType.Regular,\n",
    "    train_final_model=True,\n",
    "    logging_level='Silent',\n",
    "    plot=True\n",
    ")"
   ]
  },
  {
   "cell_type": "code",
   "execution_count": 71,
   "metadata": {},
   "outputs": [],
   "source": [
    "final_cols = summary[\"selected_features_names\"]"
   ]
  },
  {
   "cell_type": "markdown",
   "metadata": {},
   "source": [
    "# Regularization and final model"
   ]
  },
  {
   "cell_type": "code",
   "execution_count": 73,
   "metadata": {},
   "outputs": [
    {
     "name": "stdout",
     "output_type": "stream",
     "text": [
      "['BsmtFin SF 1', 'Gr Liv Area', 'House Area']\n",
      "['Neighborhood', 'Fireplaces']\n",
      "['Overall Qual', 'Bsmt Qual', 'Kitchen Qual', 'Year Built', 'Year Remod/Add']\n"
     ]
    }
   ],
   "source": [
    "print([f for f in numerical_features if f in final_cols])\n",
    "print([f for f in categorical_features if f in final_cols])\n",
    "print([f for f in ordinal_features if f in final_cols])"
   ]
  },
  {
   "cell_type": "code",
   "execution_count": 34,
   "metadata": {},
   "outputs": [],
   "source": [
    "X_train = df_train.drop(\"SalePrice\", axis=1)\n",
    "y_train = df_train[\"SalePrice\"]\n",
    "\n",
    "X_test = df_test.drop(\"SalePrice\", axis=1)\n",
    "y_test = df_test[\"SalePrice\"]"
   ]
  },
  {
   "cell_type": "code",
   "execution_count": 90,
   "metadata": {},
   "outputs": [
    {
     "data": {
      "text/html": [
       "<style>#sk-container-id-11 {color: black;background-color: white;}#sk-container-id-11 pre{padding: 0;}#sk-container-id-11 div.sk-toggleable {background-color: white;}#sk-container-id-11 label.sk-toggleable__label {cursor: pointer;display: block;width: 100%;margin-bottom: 0;padding: 0.3em;box-sizing: border-box;text-align: center;}#sk-container-id-11 label.sk-toggleable__label-arrow:before {content: \"▸\";float: left;margin-right: 0.25em;color: #696969;}#sk-container-id-11 label.sk-toggleable__label-arrow:hover:before {color: black;}#sk-container-id-11 div.sk-estimator:hover label.sk-toggleable__label-arrow:before {color: black;}#sk-container-id-11 div.sk-toggleable__content {max-height: 0;max-width: 0;overflow: hidden;text-align: left;background-color: #f0f8ff;}#sk-container-id-11 div.sk-toggleable__content pre {margin: 0.2em;color: black;border-radius: 0.25em;background-color: #f0f8ff;}#sk-container-id-11 input.sk-toggleable__control:checked~div.sk-toggleable__content {max-height: 200px;max-width: 100%;overflow: auto;}#sk-container-id-11 input.sk-toggleable__control:checked~label.sk-toggleable__label-arrow:before {content: \"▾\";}#sk-container-id-11 div.sk-estimator input.sk-toggleable__control:checked~label.sk-toggleable__label {background-color: #d4ebff;}#sk-container-id-11 div.sk-label input.sk-toggleable__control:checked~label.sk-toggleable__label {background-color: #d4ebff;}#sk-container-id-11 input.sk-hidden--visually {border: 0;clip: rect(1px 1px 1px 1px);clip: rect(1px, 1px, 1px, 1px);height: 1px;margin: -1px;overflow: hidden;padding: 0;position: absolute;width: 1px;}#sk-container-id-11 div.sk-estimator {font-family: monospace;background-color: #f0f8ff;border: 1px dotted black;border-radius: 0.25em;box-sizing: border-box;margin-bottom: 0.5em;}#sk-container-id-11 div.sk-estimator:hover {background-color: #d4ebff;}#sk-container-id-11 div.sk-parallel-item::after {content: \"\";width: 100%;border-bottom: 1px solid gray;flex-grow: 1;}#sk-container-id-11 div.sk-label:hover label.sk-toggleable__label {background-color: #d4ebff;}#sk-container-id-11 div.sk-serial::before {content: \"\";position: absolute;border-left: 1px solid gray;box-sizing: border-box;top: 0;bottom: 0;left: 50%;z-index: 0;}#sk-container-id-11 div.sk-serial {display: flex;flex-direction: column;align-items: center;background-color: white;padding-right: 0.2em;padding-left: 0.2em;position: relative;}#sk-container-id-11 div.sk-item {position: relative;z-index: 1;}#sk-container-id-11 div.sk-parallel {display: flex;align-items: stretch;justify-content: center;background-color: white;position: relative;}#sk-container-id-11 div.sk-item::before, #sk-container-id-11 div.sk-parallel-item::before {content: \"\";position: absolute;border-left: 1px solid gray;box-sizing: border-box;top: 0;bottom: 0;left: 50%;z-index: -1;}#sk-container-id-11 div.sk-parallel-item {display: flex;flex-direction: column;z-index: 1;position: relative;background-color: white;}#sk-container-id-11 div.sk-parallel-item:first-child::after {align-self: flex-end;width: 50%;}#sk-container-id-11 div.sk-parallel-item:last-child::after {align-self: flex-start;width: 50%;}#sk-container-id-11 div.sk-parallel-item:only-child::after {width: 0;}#sk-container-id-11 div.sk-dashed-wrapped {border: 1px dashed gray;margin: 0 0.4em 0.5em 0.4em;box-sizing: border-box;padding-bottom: 0.4em;background-color: white;}#sk-container-id-11 div.sk-label label {font-family: monospace;font-weight: bold;display: inline-block;line-height: 1.2em;}#sk-container-id-11 div.sk-label-container {text-align: center;}#sk-container-id-11 div.sk-container {/* jupyter's `normalize.less` sets `[hidden] { display: none; }` but bootstrap.min.css set `[hidden] { display: none !important; }` so we also need the `!important` here to be able to override the default hidden behavior on the sphinx rendered scikit-learn.org. See: https://github.com/scikit-learn/scikit-learn/issues/21755 */display: inline-block !important;position: relative;}#sk-container-id-11 div.sk-text-repr-fallback {display: none;}</style><div id=\"sk-container-id-11\" class=\"sk-top-container\"><div class=\"sk-text-repr-fallback\"><pre>Pipeline(steps=[(&#x27;preprocessor&#x27;,\n",
       "                 ColumnTransformer(transformers=[(&#x27;num&#x27;, IterativeImputer(),\n",
       "                                                  [&#x27;BsmtFin SF 1&#x27;,\n",
       "                                                   &#x27;Gr Liv Area&#x27;,\n",
       "                                                   &#x27;House Area&#x27;]),\n",
       "                                                 (&#x27;cat&#x27;,\n",
       "                                                  Pipeline(steps=[(&#x27;ord&#x27;,\n",
       "                                                                   OrdinalEncoder(handle_unknown=&#x27;use_encoded_value&#x27;,\n",
       "                                                                                  unknown_value=nan)),\n",
       "                                                                  (&#x27;imputer&#x27;,\n",
       "                                                                   IterativeImputer()),\n",
       "                                                                  (&#x27;threshold&#x27;,\n",
       "                                                                   FunctionTransformer(func=&lt;function round_ at 0x1094320e0&gt;)),\n",
       "                                                                  (&#x27;onehot&#x27;,\n",
       "                                                                   OneHotEnc...\n",
       "                                                                   ColumnTransformer(remainder=&#x27;passthrough&#x27;,\n",
       "                                                                                     transformers=[(&#x27;qual_cond_nan&#x27;,\n",
       "                                                                                                    OrdinalEncoder(categories=[[&#x27;Po&#x27;,\n",
       "                                                                                                                                None,\n",
       "                                                                                                                                &#x27;Fa&#x27;,\n",
       "                                                                                                                                &#x27;TA&#x27;,\n",
       "                                                                                                                                &#x27;Gd&#x27;,\n",
       "                                                                                                                                &#x27;Ex&#x27;]]),\n",
       "                                                                                                    [&#x27;Bsmt &#x27;\n",
       "                                                                                                     &#x27;Qual&#x27;]),\n",
       "                                                                                                   (&#x27;qual_cond&#x27;,\n",
       "                                                                                                    OrdinalEncoder(categories=[[&#x27;Po&#x27;,\n",
       "                                                                                                                                &#x27;Fa&#x27;,\n",
       "                                                                                                                                &#x27;TA&#x27;,\n",
       "                                                                                                                                &#x27;Gd&#x27;,\n",
       "                                                                                                                                &#x27;Ex&#x27;]]),\n",
       "                                                                                                    [&#x27;Kitchen &#x27;\n",
       "                                                                                                     &#x27;Qual&#x27;])])),\n",
       "                                                                  (&#x27;imputing&#x27;,\n",
       "                                                                   IterativeImputer())]),\n",
       "                                                  [&#x27;Overall Qual&#x27;, &#x27;Bsmt Qual&#x27;,\n",
       "                                                   &#x27;Kitchen Qual&#x27;, &#x27;Year Built&#x27;,\n",
       "                                                   &#x27;Year Remod/Add&#x27;])])),\n",
       "                (&#x27;model&#x27;, Lasso(alpha=25))])</pre><b>In a Jupyter environment, please rerun this cell to show the HTML representation or trust the notebook. <br />On GitHub, the HTML representation is unable to render, please try loading this page with nbviewer.org.</b></div><div class=\"sk-container\" hidden><div class=\"sk-item sk-dashed-wrapped\"><div class=\"sk-label-container\"><div class=\"sk-label sk-toggleable\"><input class=\"sk-toggleable__control sk-hidden--visually\" id=\"sk-estimator-id-125\" type=\"checkbox\" ><label for=\"sk-estimator-id-125\" class=\"sk-toggleable__label sk-toggleable__label-arrow\">Pipeline</label><div class=\"sk-toggleable__content\"><pre>Pipeline(steps=[(&#x27;preprocessor&#x27;,\n",
       "                 ColumnTransformer(transformers=[(&#x27;num&#x27;, IterativeImputer(),\n",
       "                                                  [&#x27;BsmtFin SF 1&#x27;,\n",
       "                                                   &#x27;Gr Liv Area&#x27;,\n",
       "                                                   &#x27;House Area&#x27;]),\n",
       "                                                 (&#x27;cat&#x27;,\n",
       "                                                  Pipeline(steps=[(&#x27;ord&#x27;,\n",
       "                                                                   OrdinalEncoder(handle_unknown=&#x27;use_encoded_value&#x27;,\n",
       "                                                                                  unknown_value=nan)),\n",
       "                                                                  (&#x27;imputer&#x27;,\n",
       "                                                                   IterativeImputer()),\n",
       "                                                                  (&#x27;threshold&#x27;,\n",
       "                                                                   FunctionTransformer(func=&lt;function round_ at 0x1094320e0&gt;)),\n",
       "                                                                  (&#x27;onehot&#x27;,\n",
       "                                                                   OneHotEnc...\n",
       "                                                                   ColumnTransformer(remainder=&#x27;passthrough&#x27;,\n",
       "                                                                                     transformers=[(&#x27;qual_cond_nan&#x27;,\n",
       "                                                                                                    OrdinalEncoder(categories=[[&#x27;Po&#x27;,\n",
       "                                                                                                                                None,\n",
       "                                                                                                                                &#x27;Fa&#x27;,\n",
       "                                                                                                                                &#x27;TA&#x27;,\n",
       "                                                                                                                                &#x27;Gd&#x27;,\n",
       "                                                                                                                                &#x27;Ex&#x27;]]),\n",
       "                                                                                                    [&#x27;Bsmt &#x27;\n",
       "                                                                                                     &#x27;Qual&#x27;]),\n",
       "                                                                                                   (&#x27;qual_cond&#x27;,\n",
       "                                                                                                    OrdinalEncoder(categories=[[&#x27;Po&#x27;,\n",
       "                                                                                                                                &#x27;Fa&#x27;,\n",
       "                                                                                                                                &#x27;TA&#x27;,\n",
       "                                                                                                                                &#x27;Gd&#x27;,\n",
       "                                                                                                                                &#x27;Ex&#x27;]]),\n",
       "                                                                                                    [&#x27;Kitchen &#x27;\n",
       "                                                                                                     &#x27;Qual&#x27;])])),\n",
       "                                                                  (&#x27;imputing&#x27;,\n",
       "                                                                   IterativeImputer())]),\n",
       "                                                  [&#x27;Overall Qual&#x27;, &#x27;Bsmt Qual&#x27;,\n",
       "                                                   &#x27;Kitchen Qual&#x27;, &#x27;Year Built&#x27;,\n",
       "                                                   &#x27;Year Remod/Add&#x27;])])),\n",
       "                (&#x27;model&#x27;, Lasso(alpha=25))])</pre></div></div></div><div class=\"sk-serial\"><div class=\"sk-item sk-dashed-wrapped\"><div class=\"sk-label-container\"><div class=\"sk-label sk-toggleable\"><input class=\"sk-toggleable__control sk-hidden--visually\" id=\"sk-estimator-id-126\" type=\"checkbox\" ><label for=\"sk-estimator-id-126\" class=\"sk-toggleable__label sk-toggleable__label-arrow\">preprocessor: ColumnTransformer</label><div class=\"sk-toggleable__content\"><pre>ColumnTransformer(transformers=[(&#x27;num&#x27;, IterativeImputer(),\n",
       "                                 [&#x27;BsmtFin SF 1&#x27;, &#x27;Gr Liv Area&#x27;, &#x27;House Area&#x27;]),\n",
       "                                (&#x27;cat&#x27;,\n",
       "                                 Pipeline(steps=[(&#x27;ord&#x27;,\n",
       "                                                  OrdinalEncoder(handle_unknown=&#x27;use_encoded_value&#x27;,\n",
       "                                                                 unknown_value=nan)),\n",
       "                                                 (&#x27;imputer&#x27;,\n",
       "                                                  IterativeImputer()),\n",
       "                                                 (&#x27;threshold&#x27;,\n",
       "                                                  FunctionTransformer(func=&lt;function round_ at 0x1094320e0&gt;)),\n",
       "                                                 (&#x27;onehot&#x27;,\n",
       "                                                  OneHotEncoder(handle_unknown=&#x27;ignore&#x27;))])...\n",
       "                                 Pipeline(steps=[(&#x27;ord_encoding&#x27;,\n",
       "                                                  ColumnTransformer(remainder=&#x27;passthrough&#x27;,\n",
       "                                                                    transformers=[(&#x27;qual_cond_nan&#x27;,\n",
       "                                                                                   OrdinalEncoder(categories=[[&#x27;Po&#x27;,\n",
       "                                                                                                               None,\n",
       "                                                                                                               &#x27;Fa&#x27;,\n",
       "                                                                                                               &#x27;TA&#x27;,\n",
       "                                                                                                               &#x27;Gd&#x27;,\n",
       "                                                                                                               &#x27;Ex&#x27;]]),\n",
       "                                                                                   [&#x27;Bsmt &#x27;\n",
       "                                                                                    &#x27;Qual&#x27;]),\n",
       "                                                                                  (&#x27;qual_cond&#x27;,\n",
       "                                                                                   OrdinalEncoder(categories=[[&#x27;Po&#x27;,\n",
       "                                                                                                               &#x27;Fa&#x27;,\n",
       "                                                                                                               &#x27;TA&#x27;,\n",
       "                                                                                                               &#x27;Gd&#x27;,\n",
       "                                                                                                               &#x27;Ex&#x27;]]),\n",
       "                                                                                   [&#x27;Kitchen &#x27;\n",
       "                                                                                    &#x27;Qual&#x27;])])),\n",
       "                                                 (&#x27;imputing&#x27;,\n",
       "                                                  IterativeImputer())]),\n",
       "                                 [&#x27;Overall Qual&#x27;, &#x27;Bsmt Qual&#x27;, &#x27;Kitchen Qual&#x27;,\n",
       "                                  &#x27;Year Built&#x27;, &#x27;Year Remod/Add&#x27;])])</pre></div></div></div><div class=\"sk-parallel\"><div class=\"sk-parallel-item\"><div class=\"sk-item\"><div class=\"sk-label-container\"><div class=\"sk-label sk-toggleable\"><input class=\"sk-toggleable__control sk-hidden--visually\" id=\"sk-estimator-id-127\" type=\"checkbox\" ><label for=\"sk-estimator-id-127\" class=\"sk-toggleable__label sk-toggleable__label-arrow\">num</label><div class=\"sk-toggleable__content\"><pre>[&#x27;BsmtFin SF 1&#x27;, &#x27;Gr Liv Area&#x27;, &#x27;House Area&#x27;]</pre></div></div></div><div class=\"sk-serial\"><div class=\"sk-item\"><div class=\"sk-estimator sk-toggleable\"><input class=\"sk-toggleable__control sk-hidden--visually\" id=\"sk-estimator-id-128\" type=\"checkbox\" ><label for=\"sk-estimator-id-128\" class=\"sk-toggleable__label sk-toggleable__label-arrow\">IterativeImputer</label><div class=\"sk-toggleable__content\"><pre>IterativeImputer()</pre></div></div></div></div></div></div><div class=\"sk-parallel-item\"><div class=\"sk-item\"><div class=\"sk-label-container\"><div class=\"sk-label sk-toggleable\"><input class=\"sk-toggleable__control sk-hidden--visually\" id=\"sk-estimator-id-129\" type=\"checkbox\" ><label for=\"sk-estimator-id-129\" class=\"sk-toggleable__label sk-toggleable__label-arrow\">cat</label><div class=\"sk-toggleable__content\"><pre>[&#x27;Neighborhood&#x27;, &#x27;Fireplaces&#x27;]</pre></div></div></div><div class=\"sk-serial\"><div class=\"sk-item\"><div class=\"sk-serial\"><div class=\"sk-item\"><div class=\"sk-estimator sk-toggleable\"><input class=\"sk-toggleable__control sk-hidden--visually\" id=\"sk-estimator-id-130\" type=\"checkbox\" ><label for=\"sk-estimator-id-130\" class=\"sk-toggleable__label sk-toggleable__label-arrow\">OrdinalEncoder</label><div class=\"sk-toggleable__content\"><pre>OrdinalEncoder(handle_unknown=&#x27;use_encoded_value&#x27;, unknown_value=nan)</pre></div></div></div><div class=\"sk-item\"><div class=\"sk-estimator sk-toggleable\"><input class=\"sk-toggleable__control sk-hidden--visually\" id=\"sk-estimator-id-131\" type=\"checkbox\" ><label for=\"sk-estimator-id-131\" class=\"sk-toggleable__label sk-toggleable__label-arrow\">IterativeImputer</label><div class=\"sk-toggleable__content\"><pre>IterativeImputer()</pre></div></div></div><div class=\"sk-item\"><div class=\"sk-estimator sk-toggleable\"><input class=\"sk-toggleable__control sk-hidden--visually\" id=\"sk-estimator-id-132\" type=\"checkbox\" ><label for=\"sk-estimator-id-132\" class=\"sk-toggleable__label sk-toggleable__label-arrow\">FunctionTransformer</label><div class=\"sk-toggleable__content\"><pre>FunctionTransformer(func=&lt;function round_ at 0x1094320e0&gt;)</pre></div></div></div><div class=\"sk-item\"><div class=\"sk-estimator sk-toggleable\"><input class=\"sk-toggleable__control sk-hidden--visually\" id=\"sk-estimator-id-133\" type=\"checkbox\" ><label for=\"sk-estimator-id-133\" class=\"sk-toggleable__label sk-toggleable__label-arrow\">OneHotEncoder</label><div class=\"sk-toggleable__content\"><pre>OneHotEncoder(handle_unknown=&#x27;ignore&#x27;)</pre></div></div></div></div></div></div></div></div><div class=\"sk-parallel-item\"><div class=\"sk-item\"><div class=\"sk-label-container\"><div class=\"sk-label sk-toggleable\"><input class=\"sk-toggleable__control sk-hidden--visually\" id=\"sk-estimator-id-134\" type=\"checkbox\" ><label for=\"sk-estimator-id-134\" class=\"sk-toggleable__label sk-toggleable__label-arrow\">ord</label><div class=\"sk-toggleable__content\"><pre>[&#x27;Overall Qual&#x27;, &#x27;Bsmt Qual&#x27;, &#x27;Kitchen Qual&#x27;, &#x27;Year Built&#x27;, &#x27;Year Remod/Add&#x27;]</pre></div></div></div><div class=\"sk-serial\"><div class=\"sk-item\"><div class=\"sk-serial\"><div class=\"sk-item sk-dashed-wrapped\"><div class=\"sk-label-container\"><div class=\"sk-label sk-toggleable\"><input class=\"sk-toggleable__control sk-hidden--visually\" id=\"sk-estimator-id-135\" type=\"checkbox\" ><label for=\"sk-estimator-id-135\" class=\"sk-toggleable__label sk-toggleable__label-arrow\">ord_encoding: ColumnTransformer</label><div class=\"sk-toggleable__content\"><pre>ColumnTransformer(remainder=&#x27;passthrough&#x27;,\n",
       "                  transformers=[(&#x27;qual_cond_nan&#x27;,\n",
       "                                 OrdinalEncoder(categories=[[&#x27;Po&#x27;, None, &#x27;Fa&#x27;,\n",
       "                                                             &#x27;TA&#x27;, &#x27;Gd&#x27;,\n",
       "                                                             &#x27;Ex&#x27;]]),\n",
       "                                 [&#x27;Bsmt Qual&#x27;]),\n",
       "                                (&#x27;qual_cond&#x27;,\n",
       "                                 OrdinalEncoder(categories=[[&#x27;Po&#x27;, &#x27;Fa&#x27;, &#x27;TA&#x27;,\n",
       "                                                             &#x27;Gd&#x27;, &#x27;Ex&#x27;]]),\n",
       "                                 [&#x27;Kitchen Qual&#x27;])])</pre></div></div></div><div class=\"sk-parallel\"><div class=\"sk-parallel-item\"><div class=\"sk-item\"><div class=\"sk-label-container\"><div class=\"sk-label sk-toggleable\"><input class=\"sk-toggleable__control sk-hidden--visually\" id=\"sk-estimator-id-136\" type=\"checkbox\" ><label for=\"sk-estimator-id-136\" class=\"sk-toggleable__label sk-toggleable__label-arrow\">qual_cond_nan</label><div class=\"sk-toggleable__content\"><pre>[&#x27;Bsmt Qual&#x27;]</pre></div></div></div><div class=\"sk-serial\"><div class=\"sk-item\"><div class=\"sk-estimator sk-toggleable\"><input class=\"sk-toggleable__control sk-hidden--visually\" id=\"sk-estimator-id-137\" type=\"checkbox\" ><label for=\"sk-estimator-id-137\" class=\"sk-toggleable__label sk-toggleable__label-arrow\">OrdinalEncoder</label><div class=\"sk-toggleable__content\"><pre>OrdinalEncoder(categories=[[&#x27;Po&#x27;, None, &#x27;Fa&#x27;, &#x27;TA&#x27;, &#x27;Gd&#x27;, &#x27;Ex&#x27;]])</pre></div></div></div></div></div></div><div class=\"sk-parallel-item\"><div class=\"sk-item\"><div class=\"sk-label-container\"><div class=\"sk-label sk-toggleable\"><input class=\"sk-toggleable__control sk-hidden--visually\" id=\"sk-estimator-id-138\" type=\"checkbox\" ><label for=\"sk-estimator-id-138\" class=\"sk-toggleable__label sk-toggleable__label-arrow\">qual_cond</label><div class=\"sk-toggleable__content\"><pre>[&#x27;Kitchen Qual&#x27;]</pre></div></div></div><div class=\"sk-serial\"><div class=\"sk-item\"><div class=\"sk-estimator sk-toggleable\"><input class=\"sk-toggleable__control sk-hidden--visually\" id=\"sk-estimator-id-139\" type=\"checkbox\" ><label for=\"sk-estimator-id-139\" class=\"sk-toggleable__label sk-toggleable__label-arrow\">OrdinalEncoder</label><div class=\"sk-toggleable__content\"><pre>OrdinalEncoder(categories=[[&#x27;Po&#x27;, &#x27;Fa&#x27;, &#x27;TA&#x27;, &#x27;Gd&#x27;, &#x27;Ex&#x27;]])</pre></div></div></div></div></div></div><div class=\"sk-parallel-item\"><div class=\"sk-item\"><div class=\"sk-label-container\"><div class=\"sk-label sk-toggleable\"><input class=\"sk-toggleable__control sk-hidden--visually\" id=\"sk-estimator-id-140\" type=\"checkbox\" ><label for=\"sk-estimator-id-140\" class=\"sk-toggleable__label sk-toggleable__label-arrow\">remainder</label><div class=\"sk-toggleable__content\"><pre></pre></div></div></div><div class=\"sk-serial\"><div class=\"sk-item\"><div class=\"sk-estimator sk-toggleable\"><input class=\"sk-toggleable__control sk-hidden--visually\" id=\"sk-estimator-id-141\" type=\"checkbox\" ><label for=\"sk-estimator-id-141\" class=\"sk-toggleable__label sk-toggleable__label-arrow\">passthrough</label><div class=\"sk-toggleable__content\"><pre>passthrough</pre></div></div></div></div></div></div></div></div><div class=\"sk-item\"><div class=\"sk-estimator sk-toggleable\"><input class=\"sk-toggleable__control sk-hidden--visually\" id=\"sk-estimator-id-142\" type=\"checkbox\" ><label for=\"sk-estimator-id-142\" class=\"sk-toggleable__label sk-toggleable__label-arrow\">IterativeImputer</label><div class=\"sk-toggleable__content\"><pre>IterativeImputer()</pre></div></div></div></div></div></div></div></div></div></div><div class=\"sk-item\"><div class=\"sk-estimator sk-toggleable\"><input class=\"sk-toggleable__control sk-hidden--visually\" id=\"sk-estimator-id-143\" type=\"checkbox\" ><label for=\"sk-estimator-id-143\" class=\"sk-toggleable__label sk-toggleable__label-arrow\">Lasso</label><div class=\"sk-toggleable__content\"><pre>Lasso(alpha=25)</pre></div></div></div></div></div></div></div>"
      ],
      "text/plain": [
       "Pipeline(steps=[('preprocessor',\n",
       "                 ColumnTransformer(transformers=[('num', IterativeImputer(),\n",
       "                                                  ['BsmtFin SF 1',\n",
       "                                                   'Gr Liv Area',\n",
       "                                                   'House Area']),\n",
       "                                                 ('cat',\n",
       "                                                  Pipeline(steps=[('ord',\n",
       "                                                                   OrdinalEncoder(handle_unknown='use_encoded_value',\n",
       "                                                                                  unknown_value=nan)),\n",
       "                                                                  ('imputer',\n",
       "                                                                   IterativeImputer()),\n",
       "                                                                  ('threshold',\n",
       "                                                                   FunctionTransformer(func=<function round_ at 0x1094320e0>)),\n",
       "                                                                  ('onehot',\n",
       "                                                                   OneHotEnc...\n",
       "                                                                   ColumnTransformer(remainder='passthrough',\n",
       "                                                                                     transformers=[('qual_cond_nan',\n",
       "                                                                                                    OrdinalEncoder(categories=[['Po',\n",
       "                                                                                                                                None,\n",
       "                                                                                                                                'Fa',\n",
       "                                                                                                                                'TA',\n",
       "                                                                                                                                'Gd',\n",
       "                                                                                                                                'Ex']]),\n",
       "                                                                                                    ['Bsmt '\n",
       "                                                                                                     'Qual']),\n",
       "                                                                                                   ('qual_cond',\n",
       "                                                                                                    OrdinalEncoder(categories=[['Po',\n",
       "                                                                                                                                'Fa',\n",
       "                                                                                                                                'TA',\n",
       "                                                                                                                                'Gd',\n",
       "                                                                                                                                'Ex']]),\n",
       "                                                                                                    ['Kitchen '\n",
       "                                                                                                     'Qual'])])),\n",
       "                                                                  ('imputing',\n",
       "                                                                   IterativeImputer())]),\n",
       "                                                  ['Overall Qual', 'Bsmt Qual',\n",
       "                                                   'Kitchen Qual', 'Year Built',\n",
       "                                                   'Year Remod/Add'])])),\n",
       "                ('model', Lasso(alpha=25))])"
      ]
     },
     "execution_count": 90,
     "metadata": {},
     "output_type": "execute_result"
    }
   ],
   "source": [
    "numerical_transformer = IterativeImputer()\n",
    "categorical_transformer = Pipeline([\n",
    "    (\"ord\", OrdinalEncoder(handle_unknown=\"use_encoded_value\", unknown_value=np.NaN)),\n",
    "    (\"imputer\", IterativeImputer()),\n",
    "    (\"threshold\", FunctionTransformer(np.round)),\n",
    "    (\"onehot\", OneHotEncoder(handle_unknown=\"ignore\"))\n",
    "])\n",
    "\n",
    "ordinal_encoding= ColumnTransformer(\n",
    "    transformers=[\n",
    "        (\"qual_cond_nan\", OrdinalEncoder(categories=\n",
    "        [[\"Po\", None, \"Fa\", \"TA\", \"Gd\", \"Ex\"]]),\n",
    "        ['Bsmt Qual']\n",
    "        ),\n",
    "\n",
    "        (\"qual_cond\", OrdinalEncoder(categories=\n",
    "        [[\"Po\", \"Fa\", \"TA\", \"Gd\", \"Ex\"]]),\n",
    "        ['Kitchen Qual']\n",
    "        ),\n",
    "    ],\n",
    "    remainder=\"passthrough\" # Overall Qual/Cond, 'Yr Sold', 'Garage Yr Blt', 'Year Built', 'Year Remod/Add'\n",
    ")\n",
    "\n",
    "ordinal_transformer = Pipeline([\n",
    "    (\"ord_encoding\", ordinal_encoding),\n",
    "    (\"imputing\", IterativeImputer())\n",
    "])\n",
    "\n",
    "preprocessor = ColumnTransformer(\n",
    "    transformers=[\n",
    "        (\"num\", numerical_transformer, [f for f in numerical_features if f in final_cols]),\n",
    "        (\"cat\", categorical_transformer, [f for f in categorical_features if f in final_cols]),\n",
    "        (\"ord\", ordinal_transformer, [f for f in ordinal_features if f in final_cols])\n",
    "    ],\n",
    "    remainder=\"drop\"\n",
    ")\n",
    "\n",
    "inference_pipeline = Pipeline([\n",
    "    (\"preprocessor\", preprocessor),\n",
    "    (\"model\", Lasso(alpha=25))\n",
    "])\n",
    "\n",
    "inference_pipeline.fit(X_train, y_train)"
   ]
  },
  {
   "cell_type": "code",
   "execution_count": 91,
   "metadata": {},
   "outputs": [
    {
     "name": "stdout",
     "output_type": "stream",
     "text": [
      "MAE on train data:  18739.432403557494\n",
      "MAE on test data:  20470.7254562214\n",
      "Difference with base train:  -1549.9005108933961\n",
      "Difference with base test:  -854.191037749013\n"
     ]
    }
   ],
   "source": [
    "compare_to_base(*mae(inference_pipeline, X_train, y_train, X_test, y_test))"
   ]
  },
  {
   "cell_type": "code",
   "execution_count": null,
   "metadata": {},
   "outputs": [],
   "source": []
  }
 ],
 "metadata": {
  "kernelspec": {
   "display_name": "Python 3.10.4 ('datascience')",
   "language": "python",
   "name": "python3"
  },
  "language_info": {
   "codemirror_mode": {
    "name": "ipython",
    "version": 3
   },
   "file_extension": ".py",
   "mimetype": "text/x-python",
   "name": "python",
   "nbconvert_exporter": "python",
   "pygments_lexer": "ipython3",
   "version": "3.10.4"
  },
  "orig_nbformat": 4,
  "vscode": {
   "interpreter": {
    "hash": "b4f38127354bbbf11134e8c14cc17daac7b35e8faaf836cc12d7980bb5480b10"
   }
  }
 },
 "nbformat": 4,
 "nbformat_minor": 2
}
